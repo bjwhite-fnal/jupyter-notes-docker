{
 "cells": [
  {
   "cell_type": "code",
   "execution_count": 2,
   "id": "statutory-classics",
   "metadata": {},
   "outputs": [],
   "source": [
    "import numpy as np"
   ]
  },
  {
   "cell_type": "markdown",
   "id": "subtle-birmingham",
   "metadata": {},
   "source": [
    "#### (1) FOR LOOP PRACTICE\n",
    "- (a.) Create a *list* consisting of the names of my three favorite cities:  Boulder, State College, and Urbana :) \n",
    "<br><br>\n",
    "- (b.) Write a for loop that prints out the name of each of these cities!\n",
    "<br><br>\n",
    "\n",
    "*Recall that this could be done as:*\n",
    "<br>\n",
    "&emsp;for i in range(3):<br>\n",
    "&emsp;&emsp;print(list[i])\n",
    "<br>\n",
    "\n",
    "where *range(3)* is the iterable object -> but in your lesson, we also talked about another, more Pythonic way to do this where the data itself is the *iterable object*"
   ]
  },
  {
   "cell_type": "code",
   "execution_count": 3,
   "id": "suited-absorption",
   "metadata": {},
   "outputs": [],
   "source": [
    "l = ['Boulder', 'State College', 'Urbana']"
   ]
  },
  {
   "cell_type": "code",
   "execution_count": 4,
   "id": "ideal-message",
   "metadata": {},
   "outputs": [
    {
     "name": "stdout",
     "output_type": "stream",
     "text": [
      "Boulder\n",
      "State College\n",
      "Urbana\n"
     ]
    }
   ],
   "source": [
    "for city in l:\n",
    "    print(city)"
   ]
  },
  {
   "cell_type": "markdown",
   "id": "composite-noise",
   "metadata": {},
   "source": [
    "#### (2) WHILE LOOP PRACTICE\n",
    "- (a.) construct a while loop to sum up the values of 1 through 9, and then print out the sum after the loop is done, as well as the value of i"
   ]
  },
  {
   "cell_type": "code",
   "execution_count": 5,
   "id": "entertaining-blocking",
   "metadata": {},
   "outputs": [
    {
     "name": "stdout",
     "output_type": "stream",
     "text": [
      "i: 1\n",
      "i: 2\n",
      "i: 3\n",
      "i: 4\n",
      "i: 5\n",
      "i: 6\n",
      "i: 7\n",
      "i: 8\n",
      "i: 9\n",
      "total: 45\n"
     ]
    }
   ],
   "source": [
    "accum = 0\n",
    "for i in range(1, 10):\n",
    "    print(f'i: {i}')\n",
    "    accum += i\n",
    "print(f'total: {accum}')\n",
    "# Answer: 45!"
   ]
  },
  {
   "cell_type": "markdown",
   "id": "viral-withdrawal",
   "metadata": {},
   "source": [
    "#### (3) ARRAY OPERATIONS\n",
    "- (a.) Convert the temperatures in array d, which are in degrees Fahrenheit, to degrees Celsius, using array operations, and save to a new variable (i.e., *don't overwrite d*)\n",
    "<br><br>\n",
    "- (b.) Convert array d to an 1D array and save to a new variable (i.e., *don't overwrite d*)"
   ]
  },
  {
   "cell_type": "code",
   "execution_count": 6,
   "id": "adolescent-shoot",
   "metadata": {},
   "outputs": [
    {
     "name": "stdout",
     "output_type": "stream",
     "text": [
      "[[100  94  97  92  90  95]\n",
      " [ 93  87  98  96  93  89]]\n"
     ]
    }
   ],
   "source": [
    "# Temperatures on a grid on a summer's day \n",
    "d = np.array([[100,94,97,92,90,95],[93,87,98,96,93,89]])\n",
    "print(d)"
   ]
  },
  {
   "cell_type": "code",
   "execution_count": 8,
   "id": "closing-productivity",
   "metadata": {},
   "outputs": [
    {
     "name": "stdout",
     "output_type": "stream",
     "text": [
      "[[37.77777778 34.44444444 36.11111111 33.33333333 32.22222222 35.        ]\n",
      " [33.88888889 30.55555556 36.66666667 35.55555556 33.88888889 31.66666667]]\n"
     ]
    }
   ],
   "source": [
    "e = np.copy(d)\n",
    "e = e-32\n",
    "e = e/1.80\n",
    "print(e)"
   ]
  },
  {
   "cell_type": "code",
   "execution_count": 11,
   "id": "specified-electronics",
   "metadata": {},
   "outputs": [
    {
     "name": "stdout",
     "output_type": "stream",
     "text": [
      "[100  94  97  92  90  95  93  87  98  96  93  89]\n"
     ]
    }
   ],
   "source": [
    "f = np.copy(d).flatten()\n",
    "print(f)"
   ]
  },
  {
   "cell_type": "markdown",
   "id": "scheduled-dividend",
   "metadata": {},
   "source": [
    "#### (4) ARRAY COMPARISON + LOGICAL OPERATIONS  \n",
    "- (a.) identify and print only elements in array d that are above 95"
   ]
  },
  {
   "cell_type": "code",
   "execution_count": 26,
   "id": "figured-honolulu",
   "metadata": {},
   "outputs": [
    {
     "name": "stdout",
     "output_type": "stream",
     "text": [
      "100\n",
      "97\n",
      "98\n",
      "96\n"
     ]
    }
   ],
   "source": []
  },
  {
   "cell_type": "markdown",
   "id": "composite-cancer",
   "metadata": {},
   "source": [
    "- (b.) identify and print elements in array d that are above 95 AND are divisble by 2"
   ]
  },
  {
   "cell_type": "code",
   "execution_count": 30,
   "id": "distributed-dominant",
   "metadata": {},
   "outputs": [
    {
     "name": "stdout",
     "output_type": "stream",
     "text": [
      "100\n",
      "98\n",
      "96\n"
     ]
    }
   ],
   "source": [
    "for num in d[np.where((d>95) & (d%2==0))]:\n",
    "    print(num)"
   ]
  },
  {
   "cell_type": "markdown",
   "id": "republican-hamilton",
   "metadata": {},
   "source": [
    "- (c.) calculate how many elements in d are above 95"
   ]
  },
  {
   "cell_type": "code",
   "execution_count": 33,
   "id": "exciting-spanish",
   "metadata": {},
   "outputs": [
    {
     "name": "stdout",
     "output_type": "stream",
     "text": [
      "4\n"
     ]
    }
   ],
   "source": [
    "print(len(d[np.where(d>95)]))\n",
    "# Answer: 4 (using array in deg F)"
   ]
  },
  {
   "cell_type": "markdown",
   "id": "enabling-issue",
   "metadata": {},
   "source": [
    "- (d.) calculate the mean of all elements in d that are above 95"
   ]
  },
  {
   "cell_type": "code",
   "execution_count": 38,
   "id": "organizational-corporation",
   "metadata": {},
   "outputs": [
    {
     "name": "stdout",
     "output_type": "stream",
     "text": [
      "97.75\n"
     ]
    }
   ],
   "source": [
    "mean_targets = d[np.where(d>95)]\n",
    "mean = np.sum(mean_targets) / len(mean_targets)\n",
    "print(mean)\n",
    "# Answer: 97.75 (using array in deg F)"
   ]
  },
  {
   "cell_type": "code",
   "execution_count": null,
   "id": "027c8d61",
   "metadata": {},
   "outputs": [],
   "source": []
  }
 ],
 "metadata": {
  "kernelspec": {
   "display_name": "Python 3 (ipykernel)",
   "language": "python",
   "name": "python3"
  },
  "language_info": {
   "codemirror_mode": {
    "name": "ipython",
    "version": 3
   },
   "file_extension": ".py",
   "mimetype": "text/x-python",
   "name": "python",
   "nbconvert_exporter": "python",
   "pygments_lexer": "ipython3",
   "version": "3.9.6"
  }
 },
 "nbformat": 4,
 "nbformat_minor": 5
}
