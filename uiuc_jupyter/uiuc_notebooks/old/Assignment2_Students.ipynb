{
 "cells": [
  {
   "cell_type": "code",
   "execution_count": 10,
   "metadata": {},
   "outputs": [],
   "source": [
    "# Just this time, I will include this already for you in your assignment\n",
    "# INSTALL NUMPY AND MATPLOTLIB IF THEY ARE NOT ALREADY INSTALLED, FIRST\n",
    "import numpy as np  # import numpy package \n",
    "import matplotlib.pyplot as plt # function in matplotlib that produces quick and easy plots"
   ]
  },
  {
   "cell_type": "markdown",
   "metadata": {},
   "source": [
    "# Question 1:  Reading in and plotting data from a text file\n",
    "**Data**: \n",
    "  - tidal height (in cm) from the SYOWA Station, Antarctica on Dec 26, 2004, observed every 30 seconds\n",
    "\n",
    "**Context**:  \n",
    "   - a magnitude ~9.1 earthquake occured off the coast of Sumatra, Indonesia, generating a series of devastating tsunami waves\n",
    "   - maximum wave height of 100 ft (!!), and noticeable effects thousands of miles away \n",
    "   - nearly 230,000 fatalities in total :( \n",
    "   - the motivation for the development of the Indian Ocean Tsunami Warning System\n",
    "   \n",
    "**Further info for the interested**\n",
    "  - https://www.usgs.gov/centers/pcmsc/science/tsunami-generation-2004-m91-sumatra-andaman-earthquake?qt-science_center_objects=0#qt-science_center_objects (technical, but has some excellent animations!)"
   ]
  },
  {
   "cell_type": "markdown",
   "metadata": {},
   "source": [
    "#### (a.)  \n",
    "#### 1. Create a string variable consisting of 'heights.txt'\n",
    "#### 2.  Create another string variable consisting of '20041226_'\n",
    "#### 3.  Concatenate these two variables together and save in a new variable, such that your result is the name of file: 20041226_heights.txt"
   ]
  },
  {
   "cell_type": "code",
   "execution_count": 11,
   "metadata": {},
   "outputs": [],
   "source": [
    "name = 'heights.txt'\n",
    "date = '20041226_'\n",
    "filename = date + name"
   ]
  },
  {
   "cell_type": "markdown",
   "metadata": {},
   "source": [
    "#### (b.)  \n",
    "#### 1. Open the file '20041226_heights.txt' using your variable created in (a.), step 3.\n",
    "#### 2. Read the contents of this file into a list of strings\n",
    "#### 3. Close the file"
   ]
  },
  {
   "cell_type": "code",
   "execution_count": 12,
   "metadata": {},
   "outputs": [],
   "source": [
    "lines = []\n",
    "with open(filename, 'r') as f:\n",
    "    for line in f:\n",
    "        lines.append(line.strip())\n",
    "        "
   ]
  },
  {
   "cell_type": "markdown",
   "metadata": {},
   "source": [
    "#### (c.)  Determine and print the type of the variable you created in (b.), step 2"
   ]
  },
  {
   "cell_type": "code",
   "execution_count": 13,
   "metadata": {},
   "outputs": [
    {
     "name": "stdout",
     "output_type": "stream",
     "text": [
      "<class 'list'>\n"
     ]
    }
   ],
   "source": [
    "print(type(lines))"
   ]
  },
  {
   "cell_type": "markdown",
   "metadata": {},
   "source": [
    "#### (d.)  Print the values of this variable."
   ]
  },
  {
   "cell_type": "code",
   "execution_count": 14,
   "metadata": {},
   "outputs": [
    {
     "name": "stdout",
     "output_type": "stream",
     "text": [
      "['1250', '1250', '1250', '1250', '1250', '1250', '1250', '1251', '1251', '1251', '1251', '1251', '1250', '1251', '1250', '1251', '1251', '1251', '1251', '1251', '1251', '1251', '1251', '1251', '1250', '1250', '1250', '1250', '1251', '1250', '1250', '1250', '1251', '1251', '1251', '1251', '1251', '1251', '1252', '1252', '1252', '1251', '1251', '1251', '1251', '1251', '1252', '1252', '1252', '1252', '1252', '1252', '1252', '1252', '1251', '1252', '1252', '1252', '1252', '1253', '1252', '1252', '1252', '1252', '1253', '1253', '1253', '1253', '1253', '1253', '1253', '1253', '1253', '1253', '1254', '1253', '1253', '1253', '1253', '1253', '1253', '1253', '1253', '1253', '1254', '1254', '1255', '1255', '1255', '1254', '1254', '1254', '1254', '1254', '1254', '1254', '1254', '1255', '1255', '1254', '1254', '1254', '1254', '1254', '1255', '1256', '1256', '1256', '1256', '1256', '1256', '1255', '1255', '1255', '1255', '1255', '1255', '1255', '1255', '1255', '1255', '1256', '1256', '1256', '1256', '1256', '1256', '1256', '1256', '1256', '1256', '1255', '1256', '1256', '1257', '1257', '1257', '1257', '1257', '1257', '1257', '1257', '1257', '1256', '1256', '1257', '1257', '1257', '1257', '1257', '1257', '1257', '1257', '1257', '1257', '1257', '1258', '1258', '1258', '1258', '1258', '1258', '1258', '1258', '1258', '1258', '1258', '1258', '1258', '1258', '1258', '1258', '1258', '1258', '1258', '1259', '1259', '1259', '1260', '1260', '1260', '1260', '1259', '1259', '1259', '1259', '1259', '1260', '1260', '1260', '1260', '1261', '1261', '1261', '1261', '1261', '1262', '1262', '1262', '1262', '1263', '1263', '1263', '1263', '1262', '1262', '1261', '1261', '1261', '1262', '1262', '1263', '1263', '1264', '1264', '1263', '1263', '1263', '1263', '1263', '1263', '1263', '1263', '1263', '1264', '1264', '1264', '1264', '1264', '1264', '1264', '1264', '1264', '1264', '1264', '1264', '1264', '1264', '1264', '1264', '1264', '1263', '1263', '1264', '1264', '1265', '1265', '1265', '1265', '1265', '1265', '1265', '1265', '1265', '1265', '1266', '1266', '1267', '1266', '1266', '1265', '1265', '1265', '1264', '1264', '1264', '1265', '1265', '1266', '1266', '1267', '1266', '1266', '1266', '1266', '1266', '1266', '1266', '1266', '1267', '1267', '1267', '1267', '1267', '1267', '1267', '1266', '1266', '1267', '1267', '1268', '1268', '1268', '1268', '1268', '1269', '1269', '1269', '1268', '1268', '1268', '1268', '1268', '1268', '1268', '1269', '1269', '1270', '1270', '1270', '1270', '1270', '1271', '1271', '1270', '1270', '1269', '1269', '1269', '1270', '1270', '1270', '1270', '1270', '1271', '1271', '1271', '1271', '1271', '1271', '1271', '1271', '1271', '1271', '1270', '1270', '1270', '1271', '1271', '1271', '1271', '1271', '1271', '1271', '1271', '1270', '1270', '1270', '1270', '1270', '1270', '1270', '1271', '1271', '1272', '1272', '1272', '1272', '1272', '1272', '1272', '1272', '1271', '1271', '1271', '1271', '1271', '1271', '1271', '1271', '1272', '1272', '1272', '1273', '1273', '1273', '1274', '1274', '1274', '1274', '1274', '1274', '1274', '1273', '1273', '1273', '1273', '1273', '1273', '1273', '1273', '1273', '1273', '1274', '1274', '1274', '1274', '1274', '1274', '1274', '1274', '1273', '1273', '1273', '1273', '1273', '1274', '1275', '1275', '1274', '1275', '1274', '1274', '1274', '1274', '1274', '1274', '1274', '1275', '1276', '1276', '1276', '1276', '1276', '1276', '1276', '1275', '1275', '1274', '1275', '1275', '1276', '1276', '1277', '1276', '1276', '1276', '1275', '1275', '1275', '1274', '1274', '1274', '1274', '1275', '1275', '1275', '1275', '1275', '1275', '1275', '1275', '1275', '1275', '1274', '1274', '1274', '1275', '1275', '1276', '1276', '1276', '1276', '1276', '1275', '1275', '1274', '1274', '1274', '1275', '1275', '1276', '1276', '1276', '1276', '1276', '1276', '1276', '1276', '1276', '1276', '1275', '1275', '1275', '1276', '1276', '1277', '1276', '1276', '1276', '1276', '1275', '1275', '1275', '1275', '1275', '1275', '1276', '1276', '1276', '1276', '1275', '1275', '1275', '1275', '1276', '1276', '1276', '1277', '1277', '1277', '1277', '1277', '1277', '1277', '1277', '1277', '1276', '1276', '1276', '1276', '1276', '1276', '1277', '1277', '1277', '1277', '1277', '1276', '1276', '1276', '1276', '1276', '1275', '1275', '1275', '1275', '1276', '1276', '1276', '1277', '1277', '1278', '1278', '1278', '1278', '1278', '1277', '1277', '1276', '1275', '1275', '1274', '1275', '1275', '1275', '1276', '1276', '1276', '1276', '1276', '1275', '1275', '1274', '1274', '1274', '1275', '1275', '1275', '1276', '1275', '1276', '1275', '1275', '1275', '1275', '1275', '1274', '1275', '1275', '1276', '1276', '1277', '1277', '1277', '1276', '1276', '1275', '1275', '1275', '1275', '1275', '1275', '1275', '1274', '1274', '1274', '1274', '1274', '1274', '1274', '1274', '1274', '1274', '1274', '1274', '1274', '1274', '1275', '1274', '1274', '1274', '1274', '1274', '1273', '1273', '1272', '1272', '1272', '1273', '1274', '1274', '1275', '1274', '1273', '1273', '1273', '1273', '1273', '1273', '1274', '1274', '1274', '1273', '1273', '1274', '1274', '1274', '1274', '1273', '1273', '1272', '1272', '1272', '1273', '1272', '1272', '1272', '1272', '1272', '1272', '1272', '1272', '1272', '1272', '1271', '1271', '1271', '1271', '1271', '1271', '1271', '1271', '1270', '1270', '1270', '1271', '1271', '1270', '1270', '1269', '1269', '1269', '1269', '1269', '1268', '1268', '1268', '1267', '1267', '1267', '1268', '1268', '1269', '1268', '1268', '1267', '1267', '1267', '1267', '1268', '1268', '1268', '1268', '1268', '1267', '1267', '1267', '1267', '1267', '1267', '1267', '1267', '1266', '1265', '1265', '1265', '1265', '1266', '1266', '1266', '1266', '1265', '1265', '1264', '1264', '1265', '1265', '1265', '1265', '1264', '1264', '1264', '1263', '1264', '1264', '1263', '1264', '1264', '1264', '1264', '1264', '1263', '1263', '1263', '1263', '1262', '1262', '1261', '1261', '1262', '1262', '1262', '1262', '1262', '1262', '1262', '1261', '1262', '1261', '1261', '1260', '1261', '1261', '1262', '1262', '1261', '1260', '1260', '1259', '1258', '1258', '1258', '1258', '1259', '1259', '1259', '1259', '1258', '1258', '1257', '1257', '1258', '1257', '1257', '1256', '1256', '1256', '1257', '1257', '1257', '1257', '1257', '1257', '1257', '1256', '1255', '1255', '1254', '1254', '1254', '1254', '1254', '1255', '1255', '1255', '1256', '1255', '1254', '1253', '1253', '1252', '1252', '1252', '1252', '1251', '1251', '1251', '1251', '1251', '1251', '1252', '1251', '1251', '1250', '1250', '1250', '1250', '1249', '1249', '1248', '1248', '1248', '1248', '1249', '1249', '1249', '1248', '1248', '1247', '1247', '1247', '1247', '1247', '1247', '1247', '1247', '1247', '1246', '1246', '1246', '1245', '1245', '1245', '1245', '1244', '1244', '1245', '1244', '1245', '1244', '1243', '1243', '1243', '1243', '1243', '1243', '1242', '1242', '1242', '1241', '1242', '1241', '1241', '1241', '1240', '1240', '1240', '1240', '1241', '1240', '1241', '1241', '1240', '1239', '1239', '1238', '1238', '1238', '1238', '1238', '1238', '1238', '1238', '1238', '1238', '1236', '1235', '1234', '1234', '1234', '1234', '1234', '1234', '1235', '1235', '1235', '1234', '1233', '1233', '1233', '1233', '1233', '1233', '1232', '1232', '1232', '1232', '1232', '1232', '1231', '1230', '1229', '1229', '1230', '1230', '1230', '1229', '1228', '1228', '1228', '1228', '1228', '1227', '1227', '1226', '1226', '1226', '1226', '1226', '1226', '1225', '1224', '1224', '1224', '1224', '1224', '1224', '1223', '1223', '1222', '1222', '1222', '1222', '1221', '1222', '1221', '1222', '1221', '1221', '1221', '1220', '1220', '1220', '1220', '1221', '1220', '1220', '1219', '1219', '1219', '1220', '1220', '1220', '1219', '1219', '1218', '1218', '1218', '1218', '1217', '1216', '1216', '1216', '1216', '1216', '1216', '1216', '1215', '1215', '1215', '1214', '1213', '1213', '1213', '1212', '1213', '1213', '1213', '1213', '1213', '1213', '1212', '1212', '1211', '1211', '1210', '1211', '1210', '1210', '1209', '1209', '1209', '1209', '1208', '1207', '1207', '1206', '1207', '1207', '1207', '1207', '1206', '1206', '1206', '1206', '1206', '1205', '1204', '1203', '1203', '1203', '1203', '1202', '1202', '1201', '1202', '1202', '1202', '1202', '1201', '1201', '1201', '1201', '1200', '1200', '1199', '1199', '1199', '1199', '1199', '1199', '1199', '1198', '1199', '1198', '1198', '1197', '1197', '1197', '1197', '1197', '1196', '1195', '1195', '1196', '1197', '1197', '1196', '1195', '1194', '1193', '1193', '1193', '1194', '1194', '1194', '1194', '1194', '1193', '1192', '1192', '1191', '1191', '1191', '1190', '1189', '1189', '1188', '1189', '1189', '1190', '1190', '1189', '1189', '1189', '1189', '1189', '1188', '1188', '1187', '1186', '1186', '1185', '1185', '1185', '1185', '1185', '1185', '1185', '1185', '1185', '1184', '1185', '1185', '1184', '1183', '1183', '1183', '1183', '1184', '1184', '1185', '1185', '1185', '1185', '1184', '1183', '1181', '1181', '1181', '1182', '1182', '1182', '1182', '1182', '1182', '1182', '1182', '1182', '1181', '1180', '1179', '1179', '1178', '1178', '1178', '1178', '1178', '1178', '1178', '1178', '1178', '1178', '1177', '1177', '1176', '1176', '1175', '1175', '1175', '1176', '1177', '1177', '1177', '1177', '1176', '1175', '1174', '1173', '1173', '1172', '1172', '1172', '1173', '1173', '1173', '1174', '1174', '1173', '1172', '1171', '1171', '1171', '1171', '1171', '1171', '1170', '1170', '1169', '1170', '1170', '1170', '1170', '1169', '1169', '1168', '1168', '1168', '1168', '1168', '1168', '1168', '1168', '1168', '1167', '1167', '1166', '1166', '1166', '1166', '1166', '1166', '1165', '1165', '1165', '1165', '1165', '1165', '1165', '1165', '1164', '1163', '1163', '1163', '1163', '1164', '1164', '1164', '1164', '1164', '1163', '1163', '1163', '1162', '1161', '1161', '1161', '1161', '1161', '1161', '1161', '1161', '1160', '1160', '1160', '1160', '1159', '1159', '1159', '1159', '1160', '1160', '1161', '1161', '1160', '1160', '1159', '1158', '1157', '1157', '1156', '1155', '1155', '1156', '1156', '1157', '1157', '1157', '1158', '1157', '1157', '1157', '1157', '1156', '1156', '1157', '1156', '1157', '1156', '1156', '1155', '1155', '1155', '1155', '1155', '1155', '1155', '1155', '1154', '1154', '1154', '1154', '1154', '1154', '1153', '1153', '1152', '1153', '1153', '1152', '1152', '1151', '1151', '1151', '1151', '1151', '1152', '1152', '1151', '1151', '1151', '1151', '1151', '1151', '1151', '1151', '1151', '1151', '1151', '1151', '1151', '1151', '1150', '1150', '1149', '1149', '1150', '1151', '1151', '1152', '1152', '1152', '1152', '1151', '1150', '1149', '1149', '1149', '1148', '1149', '1149', '1148', '1148', '1149', '1149', '1150', '1150', '1150', '1150', '1149', '1148', '1148', '1147', '1147', '1147', '1148', '1148', '1149', '1149', '1149', '1149', '1148', '1148', '1147', '1146', '1146', '1145', '1146', '1146', '1147', '1147', '1147', '1147', '1147', '1147', '1147', '1146', '1147', '1146', '1147', '1147', '1147', '1146', '1146', '1146', '1146', '1146', '1145', '1145', '1145', '1145', '1146', '1146', '1146', '1146', '1146', '1146', '1146', '1146', '1145', '1144', '1143', '1143', '1143', '1144', '1145', '1145', '1145', '1145', '1145', '1145', '1145', '1145', '1145', '1145', '1144', '1144', '1143', '1143', '1143', '1143', '1144', '1144', '1144', '1144', '1145', '1145', '1144', '1143', '1143', '1143', '1143', '1144', '1145', '1145', '1145', '1145', '1144', '1145', '1145', '1144', '1144', '1144', '1144', '1144', '1144', '1145', '1145', '1145', '1144', '1144', '1144', '1144', '1144', '1144', '1144', '1144', '1143', '1143', '1144', '1144', '1145', '1145', '1145', '1146', '1146', '1145', '1145', '1145', '1145', '1144', '1145', '1145', '1145', '1146', '1146', '1147', '1147', '1147', '1147', '1147', '1147', '1146', '1145', '1144', '1145', '1145', '1145', '1146', '1146', '1146', '1146', '1147', '1147', '1148', '1148', '1147', '1147', '1147', '1147', '1148', '1148', '1148', '1148', '1148', '1148', '1148', '1148', '1149', '1149', '1149', '1149', '1148', '1148', '1148', '1149', '1149', '1150', '1150', '1150', '1149', '1149', '1149', '1149', '1149', '1149', '1150', '1150', '1150', '1151', '1151', '1152', '1152', '1152', '1152', '1151', '1151', '1150', '1151', '1151', '1152', '1152', '1153', '1153', '1153', '1152', '1152', '1151', '1151', '1151', '1151', '1152', '1152', '1153', '1154', '1154', '1154', '1154', '1154', '1154', '1155', '1155', '1155', '1154', '1153', '1152', '1153', '1153', '1154', '1155', '1155', '1155', '1155', '1156', '1156', '1156', '1157', '1157', '1157', '1156', '1156', '1155', '1156', '1157', '1158', '1158', '1158', '1157', '1157', '1157', '1158', '1157', '1158', '1157', '1158', '1158', '1159', '1159', '1159', '1159', '1158', '1159', '1159', '1159', '1159', '1159', '1159', '1159', '1160', '1160', '1161', '1161', '1161', '1162', '1162', '1162', '1163', '1163', '1163', '1162', '1162', '1162', '1162', '1163', '1163', '1163', '1163', '1163', '1163', '1163', '1164', '1164', '1164', '1165', '1165', '1166', '1166', '1165', '1165', '1165', '1166', '1166', '1167', '1167', '1167', '1167', '1167', '1168', '1168', '1167', '1167', '1167', '1167', '1168', '1168', '1168', '1168', '1169', '1169', '1170', '1170', '1170', '1170', '1170', '1169', '1169', '1169', '1170', '1170', '1171', '1172', '1172', '1173', '1173', '1174', '1173', '1173', '1172', '1172', '1172', '1173', '1174', '1174', '1175', '1175', '1175', '1175', '1175', '1175', '1175', '1174', '1174', '1175', '1175', '1176', '1177', '1177', '1177', '1177', '1178', '1178', '1178', '1177', '1177', '1177', '1177', '1178', '1178', '1179', '1178', '1178', '1178', '1179', '1180', '1181', '1182', '1182', '1182', '1181', '1181', '1180', '1181', '1181', '1181', '1182', '1182', '1183', '1184', '1184', '1184', '1185', '1185', '1185', '1185', '1185', '1185', '1185', '1185', '1186', '1186', '1186', '1186', '1186', '1186', '1186', '1186', '1187', '1187', '1186', '1186', '1187', '1187', '1188', '1189', '1189', '1189', '1189', '1189', '1189', '1189', '1189', '1189', '1189', '1190', '1190', '1191', '1191', '1191', '1191', '1192', '1193', '1193', '1193', '1193', '1192', '1192', '1192', '1192', '1193', '1193', '1194', '1195', '1195', '1196', '1196', '1197', '1197', '1198', '1198', '1198', '1198', '1197', '1197', '1198', '1198', '1199', '1199', '1199', '1200', '1200', '1200', '1200', '1200', '1199', '1199', '1199', '1200', '1201', '1202', '1202', '1203', '1203', '1204', '1204', '1204', '1203', '1203', '1203', '1203', '1204', '1204', '1204', '1204', '1205', '1206', '1206', '1206', '1206', '1206', '1206', '1206', '1206', '1206', '1207', '1207', '1208', '1208', '1209', '1209', '1209', '1210', '1210', '1210', '1210', '1211', '1211', '1212', '1212', '1212', '1212', '1211', '1211', '1211', '1212', '1212', '1212', '1213', '1213', '1213', '1214', '1214', '1214', '1214', '1214', '1215', '1215', '1215', '1216', '1216', '1217', '1218', '1218', '1218', '1217', '1217', '1217', '1218', '1218', '1218', '1218', '1218', '1218', '1219', '1220', '1220', '1220', '1220', '1220', '1221', '1221', '1221', '1221', '1221', '1222', '1222', '1223', '1223', '1223', '1223', '1223', '1224', '1224', '1225', '1225', '1225', '1225', '1225', '1225', '1225', '1225', '1225', '1225', '1226', '1226', '1226', '1227', '1227', '1227', '1228', '1228', '1228', '1228', '1228', '1229', '1229', '1230', '1230', '1230', '1231', '1231', '1232', '1232', '1232', '1232', '1232', '1232', '1232', '1232', '1232', '1233', '1232', '1233', '1233', '1234', '1234', '1235', '1235', '1235', '1235', '1235', '1235', '1236', '1236', '1237', '1236', '1236', '1235', '1235', '1236', '1237', '1237', '1237', '1237', '1237', '1236', '1237', '1237', '1238', '1238', '1238', '1239', '1239', '1239', '1239', '1240', '1240', '1240', '1240', '1239', '1239', '1240', '1240', '1240', '1240', '1240', '1240', '1240', '1241', '1241', '1241', '1241', '1242', '1242', '1242', '1242', '1242', '1242', '1242', '1243', '1243', '1244', '1244', '1244', '1245', '1245', '1245', '1245', '1245', '1246', '1247', '1248', '1250', '1251', '1253', '1254', '1254', '1255', '1255', '1256', '1256', '1257', '1258', '1259', '1260', '1261', '1261', '1261', '1261', '1261', '1260', '1260', '1260', '1261', '1261', '1261', '1261', '1262', '1263', '1263', '1263', '1263', '1263', '1262', '1262', '1261', '1260', '1259', '1259', '1258', '1258', '1257', '1256', '1255', '1254', '1254', '1253', '1253', '1252', '1252', '1251', '1251', '1252', '1252', '1252', '1252', '1252', '1252', '1252', '1253', '1253', '1253', '1252', '1252', '1252', '1252', '1252', '1251', '1250', '1249', '1248', '1248', '1248', '1249', '1250', '1250', '1252', '1254', '1256', '1258', '1261', '1263', '1265', '1266', '1266', '1266', '1265', '1265', '1264', '1264', '1265', '1266', '1267', '1269', '1270', '1272', '1272', '1272', '1271', '1271', '1271', '1271', '1271', '1272', '1274', '1275', '1277', '1278', '1279', '1279', '1278', '1278', '1277', '1276', '1275', '1275', '1276', '1277', '1279', '1282', '1284', '1286', '1287', '1287', '1286', '1285', '1283', '1282', '1280', '1279', '1278', '1278', '1279', '1281', '1282', '1282', '1282', '1281', '1280', '1279', '1278', '1279', '1279', '1280', '1280', '1281', '1281', '1280', '1278', '1275', '1274', '1271', '1270', '1268', '1267', '1266', '1266', '1266', '1266', '1266', '1266', '1264', '1262', '1261', '1260', '1261', '1262', '1264', '1267', '1271', '1275', '1278', '1281', '1281', '1280', '1278', '1274', '1270', '1267', '1264', '1263', '1262', '1263', '1264', '1266', '1267', '1267', '1267', '1267', '1268', '1269', '1271', '1273', '1276', '1278', '1279', '1280', '1279', '1277', '1274', '1271', '1268', '1266', '1264', '1263', '1263', '1264', '1265', '1266', '1266', '1266', '1266', '1267', '1268', '1271', '1275', '1280', '1286', '1292', '1296', '1299', '1299', '1299', '1298', '1296', '1294', '1292', '1289', '1287', '1284', '1282', '1280', '1280', '1280', '1282', '1283', '1284', '1286', '1286', '1287', '1288', '1290', '1292', '1294', '1297', '1299', '1301', '1302', '1302', '1302', '1301', '1302', '1302', '1302', '1300', '1297', '1291', '1285', '1278', '1272', '1266', '1260', '1255', '1249', '1244', '1240', '1237', '1236', '1236', '1239', '1244', '1251', '1256', '1261', '1262', '1262', '1260', '1259', '1259', '1259', '1261', '1262', '1262', '1261', '1259', '1256', '1253', '1249', '1247', '1245', '1243', '1242', '1241', '1241', '1243', '1250', '1258', '1269', '1279', '1287', '1292', '1295', '1297', '1299', '1300', '1299', '1298', '1296', '1294', '1291', '1288', '1285', '1283', '1280', '1278', '1277', '1277', '1276', '1275', '1274', '1273', '1271', '1271', '1273', '1279', '1287', '1296', '1304', '1308', '1307', '1302', '1296', '1290', '1285', '1284', '1283', '1282', '1280', '1277', '1273', '1269', '1267', '1266', '1267', '1268', '1268', '1267', '1266', '1267', '1269', '1274', '1279', '1284', '1285', '1284', '1280', '1275', '1270', '1268', '1268', '1270', '1272', '1274', '1275', '1275', '1274', '1272', '1270', '1267', '1265', '1264', '1264', '1265', '1266', '1266', '1267', '1269', '1273', '1276', '1278', '1278', '1276', '1275', '1276', '1279', '1283', '1284', '1283', '1280', '1276', '1274', '1271', '1269', '1265', '1260', '1254', '1251', '1250', '1252', '1256', '1261', '1266', '1272', '1277', '1282', '1286', '1289', '1291', '1288', '1282', '1274', '1266', '1261', '1262', '1266', '1273', '1276', '1274', '1266', '1256', '1248', '1245', '1250', '1259', '1269', '1276', '1277', '1274', '1270', '1267', '1270', '1277', '1283', '1288', '1290', '1290', '1291', '1295', '1299', '1302', '1300', '1294', '1285', '1279', '1276', '1274', '1275', '1273', '1271', '1269', '1271', '1277', '1286', '1294', '1299', '1301', '1303', '1307', '1314', '1320', '1321', '1316', '1305', '1293', '1283', '1280', '1283', '1290', '1296', '1300', '1300', '1298', '1297', '1296', '1296', '1295', '1292', '1287', '1282', '1280', '1280', '1282', '1286', '1289', '1290', '1290', '1291', '1294', '1296', '1296', '1295', '1292', '1288', '1285', '1283', '1281', '1279', '1277', '1277', '1281', '1286', '1289', '1289', '1284', '1277', '1269', '1264', '1261', '1262', '1262', '1260', '1259', '1256', '1254', '1254', '1257', '1262', '1268', '1275', '1279', '1280', '1278', '1275', '1273', '1273', '1275', '1276', '1274', '1269', '1265', '1262', '1261', '1262', '1262', '1259', '1256', '1254', '1253', '1255', '1258', '1261', '1264', '1267', '1270', '1274', '1277', '1279', '1279', '1280', '1281', '1285', '1288', '1292', '1292', '1291', '1289', '1286', '1285', '1284', '1281', '1277', '1273', '1268', '1266', '1269', '1275', '1282', '1286', '1284', '1279', '1272', '1270', '1271', '1276', '1281', '1283', '1283', '1282', '1280', '1278', '1274', '1269', '1264', '1261', '1261', '1264', '1265', '1266', '1267', '1271', '1277', '1283', '1284', '1280', '1271', '1265', '1265', '1272', '1280', '1286', '1287', '1287', '1289', '1294', '1298', '1299', '1295', '1287', '1278', '1271', '1266', '1260', '1255', '1251', '1251', '1255', '1260', '1263', '1264', '1264', '1267', '1272', '1277', '1280', '1277', '1270', '1264', '1260', '1260', '1263', '1265', '1265', '1265', '1265', '1266', '1267', '1267', '1264', '1260', '1256', '1253', '1254', '1257', '1261', '1265', '1266', '1265', '1261', '1256', '1252', '1250', '1252', '1257', '1262', '1268', '1270', '1269', '1264', '1257', '1251', '1247', '1245', '1245', '1246', '1245', '1245', '1244', '1244', '1243', '1242', '1241', '1241', '1242', '1245', '1249', '1255', '1263', '1273', '1283', '1291', '1294', '1294', '1289', '1283', '1278', '1273', '1269', '1266', '1263', '1260', '1258', '1257', '1257', '1259', '1261', '1262', '1263', '1263', '1263', '1264', '1265', '1266', '1267', '1270', '1277', '1285', '1295', '1299', '1297', '1288', '1277', '1268', '1264', '1262', '1260', '1254', '1247', '1242', '1244', '1251', '1260', '1266', '1269', '1267', '1264', '1260', '1255', '1249', '1246', '1247', '1256', '1268', '1277', '1278', '1273', '1268', '1266', '1268', '1269', '1264', '1251', '1235', '1219', '1212', '1213', '1220', '1230', '1240', '1249', '1258', '1264', '1268', '1269', '1267', '1266', '1267', '1269', '1273', '1276', '1279', '1280', '1277', '1272', '1265', '1261', '1261', '1263', '1264', '1259', '1252', '1246', '1247', '1255', '1262', '1262', '1254', '1244', '1242', '1250', '1261', '1267', '1263', '1255', '1248', '1249', '1255', '1260', '1259', '1254', '1252', '1255', '1263', '1269', '1268', '1261', '1255', '1254', '1259', '1262', '1260', '1254', '1249', '1251', '1260', '1268', '1270', '1266', '1261', '1259', '1262', '1265', '1265', '1258', '1252', '1247', '1248', '1251', '1256', '1260', '1262', '1266', '1267', '1267', '1264', '1259', '1254', '1251', '1251', '1254', '1259', '1264', '1270', '1276', '1282', '1284', '1283', '1279', '1277', '1277', '1278', '1276', '1268', '1259', '1251', '1249', '1252', '1257', '1261', '1260', '1258', '1257', '1256', '1258', '1259', '1258', '1255', '1251', '1247', '1246', '1247', '1249', '1249', '1244', '1237', '1229', '1224', '1223', '1223', '1226', '1229', '1232', '1236', '1241', '1248', '1254', '1258', '1256', '1249', '1240', '1231']\n"
     ]
    }
   ],
   "source": [
    "print(lines)"
   ]
  },
  {
   "cell_type": "markdown",
   "metadata": {},
   "source": [
    "#### (e.)  Access and print out the value of the TENTH element in this variable"
   ]
  },
  {
   "cell_type": "code",
   "execution_count": 15,
   "metadata": {},
   "outputs": [
    {
     "name": "stdout",
     "output_type": "stream",
     "text": [
      "1251\n"
     ]
    }
   ],
   "source": [
    "print(lines[9])"
   ]
  },
  {
   "cell_type": "markdown",
   "metadata": {},
   "source": [
    "#### (f.) Evaluate and print out the number of elements in this variable"
   ]
  },
  {
   "cell_type": "code",
   "execution_count": 16,
   "metadata": {},
   "outputs": [
    {
     "name": "stdout",
     "output_type": "stream",
     "text": [
      "2880\n"
     ]
    }
   ],
   "source": [
    "print(len(lines))"
   ]
  },
  {
   "cell_type": "markdown",
   "metadata": {},
   "source": [
    "#### (g.)  Can you change the value of an element in this variable?  Please show an example that demonstrates this either way. "
   ]
  },
  {
   "cell_type": "code",
   "execution_count": 17,
   "metadata": {},
   "outputs": [],
   "source": [
    "lines[0] = 'gandalf'"
   ]
  },
  {
   "cell_type": "markdown",
   "metadata": {},
   "source": [
    "#### (h.)  \n",
    "#### - We could use some list functions/methods to convert each element in this list to a numerical data type\n",
    "#### - But, this week, you've learned another way that is more suitable for reading in *numerical* data from text files, np.genfromtxt('filename')\n",
    "#### - Read in the data using this other way into a variable called *anything BUT 'xdata'*"
   ]
  },
  {
   "cell_type": "code",
   "execution_count": 22,
   "metadata": {},
   "outputs": [],
   "source": [
    "data = np.genfromtxt(filename)"
   ]
  },
  {
   "cell_type": "markdown",
   "metadata": {},
   "source": [
    "#### (i.)  Determine and print the type of this new variable"
   ]
  },
  {
   "cell_type": "code",
   "execution_count": 23,
   "metadata": {},
   "outputs": [
    {
     "name": "stdout",
     "output_type": "stream",
     "text": [
      "<class 'numpy.ndarray'>\n"
     ]
    }
   ],
   "source": [
    "print(type(data))"
   ]
  },
  {
   "cell_type": "markdown",
   "metadata": {},
   "source": [
    "#### (j.)  Create a 1D line plot of this tidal height data!  Specifically, you must:\n",
    "- Use the x-values I created for you in the new variable xdata (tidal height data were collected every 30 seconds, from 00:00:00 to 23:59:30). Know that this time data is in hours, and is in LOCAL time. \n",
    "- Include informative x and y axis labels and a title\n",
    "- Specify a color for the line - your choice which!\n",
    "<br><br>\n",
    "- *Keep in mind that passing the x-values into plt.plot in general is optional...if you don't, and only pass in y-values, Matplotlib will create its own x-values based on observation #.*"
   ]
  },
  {
   "cell_type": "code",
   "execution_count": 24,
   "metadata": {},
   "outputs": [
    {
     "data": {
      "image/png": "[encoded data removed]",
      "text/plain": [
       "<Figure size 432x288 with 1 Axes>"
      ]
     },
     "metadata": {
      "needs_background": "light"
     },
     "output_type": "display_data"
    }
   ],
   "source": [
    "                        # 30 seconds = 1/120 of an hour\n",
    "xdata = np.arange(0,24,1/120)\n",
    "# Your code here!\n",
    "\n",
    "plt.plot(data)\n",
    "plt.xlabel('X')\n",
    "plt.ylabel('Y')\n",
    "plt.title('Tsunamis are Big')\n",
    "plt.legend(['Height'])\n",
    "plt.show()"
   ]
  },
  {
   "cell_type": "markdown",
   "metadata": {},
   "source": [
    "# Question 2:  Creating a dictionary \n",
    "#### (a.)  Use the annual average data for Urbana, IL contained in the table linked below to create a dictionary in Python\n",
    "- For your reference, T_high is average high temperature, and T_low is average low temperature, both in degrees F.  Average precipitation and snowfall are both in inches.  (You do not need to include units in your dictionary).\n",
    "\n",
    "https://drive.google.com/file/d/1zjdXeG61cJ-GdhmAkU-EH_JPztmzr3XO/view?usp=sharing"
   ]
  },
  {
   "cell_type": "code",
   "execution_count": 25,
   "metadata": {},
   "outputs": [],
   "source": [
    "temp = {\n",
    "    't_high': 61.7,\n",
    "    't_low': 41.7,\n",
    "    'precip': 41.4,\n",
    "    'snow': 23.2\n",
    "}"
   ]
  },
  {
   "cell_type": "markdown",
   "metadata": {},
   "source": [
    "#### (b.)  In one line of code, print out ALL *values* in your dictionary"
   ]
  },
  {
   "cell_type": "code",
   "execution_count": 26,
   "metadata": {},
   "outputs": [
    {
     "name": "stdout",
     "output_type": "stream",
     "text": [
      "{'t_high': 61.7, 't_low': 41.7, 'precip': 41.4, 'snow': 23.2}\n"
     ]
    }
   ],
   "source": [
    "print(temp)"
   ]
  },
  {
   "cell_type": "markdown",
   "metadata": {},
   "source": [
    "#### (c.) Print out just the ONE *value* in your dictionary associated with 'Precip'"
   ]
  },
  {
   "cell_type": "code",
   "execution_count": 27,
   "metadata": {},
   "outputs": [
    {
     "name": "stdout",
     "output_type": "stream",
     "text": [
      "41.4\n"
     ]
    }
   ],
   "source": [
    "print(temp['precip'])"
   ]
  },
  {
   "cell_type": "markdown",
   "metadata": {},
   "source": [
    "# Question 3:  Install Python packages necessary for this class, if they aren't already installed, on whatever Python platform you are using\n",
    "- see 'Python, Statistics,  & Data Science Resources' tab on Moodle for links if you want more information on specific packages\n",
    "- see 'Basics of Packages and Syntax\" in Week 2 Lessons for tips on installing Python packages \n",
    "- post on Slack or email me if you run into errors you can't solve after searching on Google/StackOverflow\n",
    "\n",
    "*Packages include*\n",
    "- numpy\n",
    "- matplotlib\n",
    "- scipy\n",
    "- scikit-learn\n",
    "- seaborn\n",
    "- pandas\n",
    "- xarray\n",
    "- cartopy "
   ]
  },
  {
   "cell_type": "code",
   "execution_count": 1,
   "metadata": {},
   "outputs": [],
   "source": [
    "# Attest in this block that you have completed this\n",
    "# Don't forget to use start your line with #\n",
    "# As this is a code block!\n"
   ]
  },
  {
   "cell_type": "code",
   "execution_count": null,
   "metadata": {},
   "outputs": [],
   "source": []
  }
 ],
 "metadata": {
  "kernelspec": {
   "display_name": "Python 3 (ipykernel)",
   "language": "python",
   "name": "python3"
  },
  "language_info": {
   "codemirror_mode": {
    "name": "ipython",
    "version": 3
   },
   "file_extension": ".py",
   "mimetype": "text/x-python",
   "name": "python",
   "nbconvert_exporter": "python",
   "pygments_lexer": "ipython3",
   "version": "3.9.6"
  }
 },
 "nbformat": 4,
 "nbformat_minor": 4
}
