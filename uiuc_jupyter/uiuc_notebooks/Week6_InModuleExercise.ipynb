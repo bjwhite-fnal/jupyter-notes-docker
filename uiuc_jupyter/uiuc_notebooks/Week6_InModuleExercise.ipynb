{
 "cells": [
  {
   "cell_type": "code",
   "execution_count": 1,
   "metadata": {},
   "outputs": [],
   "source": [
    "# Obviously, import needed packages\n",
    "# Hint: this time, you'll also need Seaborn!\n",
    "import urllib.request # module for downloading data from URLs\n",
    "import seaborn as sb\n",
    "import pandas as pd\n",
    "import numpy as np\n",
    "from matplotlib import pyplot as plt"
   ]
  },
  {
   "cell_type": "code",
   "execution_count": null,
   "metadata": {},
   "outputs": [],
   "source": []
  },
  {
   "cell_type": "markdown",
   "metadata": {},
   "source": [
    "##  Time to pratice some basics in Pandas using cute data about penguins :)\n",
    "#### (1) Download (from rfd.atmos.uiuc.edu/Atms517/week7/penguins_size.csv'), using Python, the needed file\n",
    "- yes, that link is correct\n",
    "- a simplified version of a traditional data science dataset\n",
    "- https://github.com/allisonhorst/palmerpenguins/blob/master/README.md  if you're in the mood for cute diagrams of penguins and their features...people are so creative! :)"
   ]
  },
  {
   "cell_type": "code",
   "execution_count": 10,
   "metadata": {},
   "outputs": [
    {
     "data": {
      "text/plain": [
       "('penguins_size.csv', <http.client.HTTPMessage at 0x7fdc3837eee0>)"
      ]
     },
     "execution_count": 10,
     "metadata": {},
     "output_type": "execute_result"
    }
   ],
   "source": [
    "import urllib.request\n",
    "url = 'http://rfd.atmos.uiuc.edu/Atms517/week7/penguins_size.csv'\n",
    "filename = 'penguins_size.csv'\n",
    "urllib.request.urlretrieve(url,filename)"
   ]
  },
  {
   "cell_type": "markdown",
   "metadata": {},
   "source": [
    "#### (2) Read in 'penguins_size.csv' using Pandas "
   ]
  },
  {
   "cell_type": "code",
   "execution_count": 31,
   "metadata": {},
   "outputs": [],
   "source": [
    "import pandas as pd\n",
    "import chardet\n",
    "f = open('penguins_size.csv', 'rb').read()\n",
    "result = chardet.detect(f)\n",
    "encode = result['encoding']\n",
    "index = ['species', 'island', 'culmen_length_mm',  'culmen_depth_mm',  'flipper_length_mm', 'body_mass_g', 'sex']\n",
    "tdata = pd.read_csv('penguins_size.csv', engine='python', encoding=encode, usecols=index)"
   ]
  },
  {
   "cell_type": "markdown",
   "metadata": {},
   "source": [
    "#### (3) Print the first four and last four rows of this file (separately) using a specific method you learned in your lessons, to get a feel for your dataset."
   ]
  },
  {
   "cell_type": "code",
   "execution_count": 32,
   "metadata": {},
   "outputs": [
    {
     "name": "stdout",
     "output_type": "stream",
     "text": [
      "  species     island  culmen_length_mm  culmen_depth_mm  flipper_length_mm  \\\n",
      "0  Adelie  Torgersen              39.1             18.7              181.0   \n",
      "1  Adelie  Torgersen              39.5             17.4              186.0   \n",
      "2  Adelie  Torgersen              40.3             18.0              195.0   \n",
      "3  Adelie  Torgersen               NaN              NaN                NaN   \n",
      "\n",
      "   body_mass_g     sex  \n",
      "0       3750.0    MALE  \n",
      "1       3800.0  FEMALE  \n",
      "2       3250.0  FEMALE  \n",
      "3          NaN     NaN  \n",
      "    species island  culmen_length_mm  culmen_depth_mm  flipper_length_mm  \\\n",
      "148  Adelie  Dream              36.0             17.8              195.0   \n",
      "149  Adelie  Dream              37.8             18.1              193.0   \n",
      "150  Adelie  Dream              36.0             17.1              187.0   \n",
      "151  Adelie  Dream              41.5             18.5              201.0   \n",
      "\n",
      "     body_mass_g     sex  \n",
      "148       3450.0  FEMALE  \n",
      "149       3750.0    MALE  \n",
      "150       3700.0  FEMALE  \n",
      "151       4000.0    MALE  \n"
     ]
    }
   ],
   "source": [
    "print(tdata.head(4))\n",
    "print(tdata.tail(4))"
   ]
  },
  {
   "cell_type": "markdown",
   "metadata": {},
   "source": [
    "#### (4) In one line of code, access only the species, body_mass_g, and sex columns and save to a new variable. Print out this new variable!\n",
    "- there is more than one way to do this\n",
    "- feel free to show multiple ways if you'd like"
   ]
  },
  {
   "cell_type": "code",
   "execution_count": 36,
   "metadata": {},
   "outputs": [
    {
     "name": "stdout",
     "output_type": "stream",
     "text": [
      "    species  body_mass_g     sex\n",
      "0    Adelie       3750.0    MALE\n",
      "1    Adelie       3800.0  FEMALE\n",
      "2    Adelie       3250.0  FEMALE\n",
      "3    Adelie          NaN     NaN\n",
      "4    Adelie       3450.0  FEMALE\n",
      "..      ...          ...     ...\n",
      "147  Adelie       3475.0  FEMALE\n",
      "148  Adelie       3450.0  FEMALE\n",
      "149  Adelie       3750.0    MALE\n",
      "150  Adelie       3700.0  FEMALE\n",
      "151  Adelie       4000.0    MALE\n",
      "\n",
      "[152 rows x 3 columns]\n"
     ]
    }
   ],
   "source": [
    "subset = tdata[['species', 'body_mass_g', 'sex']]\n",
    "print(subset)"
   ]
  },
  {
   "cell_type": "markdown",
   "metadata": {},
   "source": [
    "#### (5)  Culmen length and depth are unfamiliar animal characteristics to many of us.  Rename culmen_length_mm to beak_length_mm, and culmen_depth_mm to beak_depth_mm. "
   ]
  },
  {
   "cell_type": "code",
   "execution_count": 40,
   "metadata": {},
   "outputs": [
    {
     "data": {
      "text/plain": [
       "Index(['species', 'island', 'beak_length_mm', 'beak_depth_mm',\n",
       "       'flipper_length_mm', 'body_mass_g', 'sex'],\n",
       "      dtype='object')"
      ]
     },
     "execution_count": 40,
     "metadata": {},
     "output_type": "execute_result"
    }
   ],
   "source": [
    "tdata = tdata.rename(columns={'culmen_length_mm':'beak_length_mm', 'culmen_depth_mm':'beak_depth_mm'})\n",
    "tdata.columns"
   ]
  },
  {
   "cell_type": "markdown",
   "metadata": {},
   "source": [
    "#### (6) Count the # of NaNs in each column.  Which column has the most?"
   ]
  },
  {
   "cell_type": "code",
   "execution_count": 43,
   "metadata": {},
   "outputs": [
    {
     "name": "stdout",
     "output_type": "stream",
     "text": [
      "species              0\n",
      "island               0\n",
      "beak_length_mm       1\n",
      "beak_depth_mm        1\n",
      "flipper_length_mm    1\n",
      "body_mass_g          1\n",
      "sex                  6\n",
      "dtype: int64\n",
      "The sex column has the most, with 6.\n"
     ]
    }
   ],
   "source": [
    "print(tdata.isna().sum())\n",
    "print('The sex column has the most, with 6.')"
   ]
  },
  {
   "cell_type": "markdown",
   "metadata": {},
   "source": [
    "#### (7) Drop any rows that have at least one NaN, and then confirm that you have removed all NaNs"
   ]
  },
  {
   "cell_type": "code",
   "execution_count": 45,
   "metadata": {},
   "outputs": [
    {
     "name": "stdout",
     "output_type": "stream",
     "text": [
      "species              0\n",
      "island               0\n",
      "beak_length_mm       0\n",
      "beak_depth_mm        0\n",
      "flipper_length_mm    0\n",
      "body_mass_g          0\n",
      "sex                  0\n",
      "dtype: int64\n"
     ]
    }
   ],
   "source": [
    "tdata = tdata.dropna()\n",
    "print(tdata.isna().sum())"
   ]
  },
  {
   "cell_type": "markdown",
   "metadata": {},
   "source": [
    "#### (8) For each numerical column, which you can think of as variables, each a characteristic of penguin, what is the maximum value? The minimum value?\n"
   ]
  },
  {
   "cell_type": "code",
   "execution_count": 57,
   "metadata": {},
   "outputs": [
    {
     "name": "stdout",
     "output_type": "stream",
     "text": [
      "Max values:\n",
      "\n",
      "    beak_length_mm            46.0\n",
      "    beak_depth_mm             21.5\n",
      "    flipper_length_mm        210.0\n",
      "    body_mass_g             4775.0\n",
      "Min values:\n",
      "\n",
      "    beak_length_mm         32.1\n",
      "    beak_depth_mm          15.5\n",
      "    flipper_length_mm     172.0\n",
      "    body_mass_g          2850.0\n"
     ]
    }
   ],
   "source": [
    "tdata.max(axis=0)\n",
    "print('''Max values:\\n\n",
    "    beak_length_mm            46.0\n",
    "    beak_depth_mm             21.5\n",
    "    flipper_length_mm        210.0\n",
    "    body_mass_g             4775.0''')\n",
    "tdata.min(axis=0)\n",
    "print('''Min values:\\n\n",
    "    beak_length_mm         32.1\n",
    "    beak_depth_mm          15.5\n",
    "    flipper_length_mm     172.0\n",
    "    body_mass_g          2850.0''')"
   ]
  },
  {
   "cell_type": "markdown",
   "metadata": {},
   "source": [
    "#### (9) Create a box-and-whisker plot (https://pandas.pydata.org/pandas-docs/stable/reference/api/pandas.DataFrame.boxplot.html), using Pandas built-in plotting functionality, of a penguin characteristic of your choice.  "
   ]
  },
  {
   "cell_type": "code",
   "execution_count": 58,
   "metadata": {},
   "outputs": [
    {
     "name": "stdout",
     "output_type": "stream",
     "text": [
      "    species     island  beak_length_mm  beak_depth_mm  flipper_length_mm  \\\n",
      "0    Adelie  Torgersen            39.1           18.7              181.0   \n",
      "1    Adelie  Torgersen            39.5           17.4              186.0   \n",
      "2    Adelie  Torgersen            40.3           18.0              195.0   \n",
      "4    Adelie  Torgersen            36.7           19.3              193.0   \n",
      "5    Adelie  Torgersen            39.3           20.6              190.0   \n",
      "..      ...        ...             ...            ...                ...   \n",
      "147  Adelie      Dream            36.6           18.4              184.0   \n",
      "148  Adelie      Dream            36.0           17.8              195.0   \n",
      "149  Adelie      Dream            37.8           18.1              193.0   \n",
      "150  Adelie      Dream            36.0           17.1              187.0   \n",
      "151  Adelie      Dream            41.5           18.5              201.0   \n",
      "\n",
      "     body_mass_g     sex  \n",
      "0         3750.0    MALE  \n",
      "1         3800.0  FEMALE  \n",
      "2         3250.0  FEMALE  \n",
      "4         3450.0  FEMALE  \n",
      "5         3650.0    MALE  \n",
      "..           ...     ...  \n",
      "147       3475.0  FEMALE  \n",
      "148       3450.0  FEMALE  \n",
      "149       3750.0    MALE  \n",
      "150       3700.0  FEMALE  \n",
      "151       4000.0    MALE  \n",
      "\n",
      "[146 rows x 7 columns]\n"
     ]
    },
    {
     "data": {
      "image/png": "[encoded data removed]",
      "text/plain": [
       "<Figure size 432x288 with 1 Axes>"
      ]
     },
     "metadata": {
      "needs_background": "light"
     },
     "output_type": "display_data"
    }
   ],
   "source": [
    "tdata.boxplot(column='flipper_length_mm', by='species')\n",
    "print(tdata)"
   ]
  },
  {
   "cell_type": "markdown",
   "metadata": {},
   "source": [
    "#### (10)  Describe the distribution of this characteristic, based on the box-and-whisker plot you created"
   ]
  },
  {
   "cell_type": "code",
   "execution_count": null,
   "metadata": {},
   "outputs": [],
   "source": []
  }
 ],
 "metadata": {
  "kernelspec": {
   "display_name": "Python 3 (ipykernel)",
   "language": "python",
   "name": "python3"
  },
  "language_info": {
   "codemirror_mode": {
    "name": "ipython",
    "version": 3
   },
   "file_extension": ".py",
   "mimetype": "text/x-python",
   "name": "python",
   "nbconvert_exporter": "python",
   "pygments_lexer": "ipython3",
   "version": "3.9.6"
  }
 },
 "nbformat": 4,
 "nbformat_minor": 4
}
