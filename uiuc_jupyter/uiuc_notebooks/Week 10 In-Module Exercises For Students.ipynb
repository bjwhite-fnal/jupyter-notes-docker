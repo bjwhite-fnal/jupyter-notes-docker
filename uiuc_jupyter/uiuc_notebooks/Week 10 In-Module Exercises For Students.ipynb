{
 "cells": [
  {
   "cell_type": "code",
   "execution_count": 2,
   "id": "polyphonic-houston",
   "metadata": {},
   "outputs": [],
   "source": [
    "import pandas as pd\n",
    "import numpy as np\n",
    "from matplotlib import pyplot as plt"
   ]
  },
  {
   "cell_type": "markdown",
   "id": "hawaiian-factor",
   "metadata": {},
   "source": [
    "### (1)  Practice with decoding time in Pandas, Part I\n",
    "**Insructions**\n",
    "- (a.) Read in the tidal gauge data from Antarctica (circa an earlier assignment; new version found in the folder with these exercises, '20041226.txt'), but now the full, messier data file\n",
    "<br><br>\n",
    "\n",
    "*Create the datetime64 objects TWO different ways*\n",
    "- (b.) pass the three time-related columns to pd.to_datetime and leverage the 'format' argument....useful to know how in case you encounter extra-complicated date-time data in future\n",
    "<br><br>\n",
    "- (c.) get the three time-related columns in the right format, such that pd.to_datetime can natively decode them, when passing to pd.to_datetime \n",
    "<br><br>\n",
    "- for both ways, save your datetime objects to a new column, print this new column, and print the type of the column, to prove to yourself what you have done"
   ]
  },
  {
   "cell_type": "code",
   "execution_count": 4,
   "id": "moving-chosen",
   "metadata": {
    "scrolled": true
   },
   "outputs": [
    {
     "data": {
      "text/html": [
       "<div>\n",
       "<style scoped>\n",
       "    .dataframe tbody tr th:only-of-type {\n",
       "        vertical-align: middle;\n",
       "    }\n",
       "\n",
       "    .dataframe tbody tr th {\n",
       "        vertical-align: top;\n",
       "    }\n",
       "\n",
       "    .dataframe thead th {\n",
       "        text-align: right;\n",
       "    }\n",
       "</style>\n",
       "<table border=\"1\" class=\"dataframe\">\n",
       "  <thead>\n",
       "    <tr style=\"text-align: right;\">\n",
       "      <th></th>\n",
       "      <th>YEAR</th>\n",
       "      <th>MM/DD</th>\n",
       "      <th>UTC+3</th>\n",
       "      <th>Unnamed: 3</th>\n",
       "      <th>Unnamed: 4</th>\n",
       "      <th>Tide(cm)</th>\n",
       "    </tr>\n",
       "  </thead>\n",
       "  <tbody>\n",
       "    <tr>\n",
       "      <th>0</th>\n",
       "      <td>2004</td>\n",
       "      <td>12/26</td>\n",
       "      <td>00:00:00</td>\n",
       "      <td>1250</td>\n",
       "      <td>NaN</td>\n",
       "      <td>NaN</td>\n",
       "    </tr>\n",
       "    <tr>\n",
       "      <th>1</th>\n",
       "      <td>2004</td>\n",
       "      <td>12/26</td>\n",
       "      <td>00:00:30</td>\n",
       "      <td>1250</td>\n",
       "      <td>NaN</td>\n",
       "      <td>NaN</td>\n",
       "    </tr>\n",
       "    <tr>\n",
       "      <th>2</th>\n",
       "      <td>2004</td>\n",
       "      <td>12/26</td>\n",
       "      <td>00:01:00</td>\n",
       "      <td>1250</td>\n",
       "      <td>NaN</td>\n",
       "      <td>NaN</td>\n",
       "    </tr>\n",
       "    <tr>\n",
       "      <th>3</th>\n",
       "      <td>2004</td>\n",
       "      <td>12/26</td>\n",
       "      <td>00:01:30</td>\n",
       "      <td>1250</td>\n",
       "      <td>NaN</td>\n",
       "      <td>NaN</td>\n",
       "    </tr>\n",
       "    <tr>\n",
       "      <th>4</th>\n",
       "      <td>2004</td>\n",
       "      <td>12/26</td>\n",
       "      <td>00:02:00</td>\n",
       "      <td>1250</td>\n",
       "      <td>NaN</td>\n",
       "      <td>NaN</td>\n",
       "    </tr>\n",
       "    <tr>\n",
       "      <th>...</th>\n",
       "      <td>...</td>\n",
       "      <td>...</td>\n",
       "      <td>...</td>\n",
       "      <td>...</td>\n",
       "      <td>...</td>\n",
       "      <td>...</td>\n",
       "    </tr>\n",
       "    <tr>\n",
       "      <th>2875</th>\n",
       "      <td>2004</td>\n",
       "      <td>12/26</td>\n",
       "      <td>23:57:30</td>\n",
       "      <td>1258</td>\n",
       "      <td>NaN</td>\n",
       "      <td>NaN</td>\n",
       "    </tr>\n",
       "    <tr>\n",
       "      <th>2876</th>\n",
       "      <td>2004</td>\n",
       "      <td>12/26</td>\n",
       "      <td>23:58:00</td>\n",
       "      <td>1256</td>\n",
       "      <td>NaN</td>\n",
       "      <td>NaN</td>\n",
       "    </tr>\n",
       "    <tr>\n",
       "      <th>2877</th>\n",
       "      <td>2004</td>\n",
       "      <td>12/26</td>\n",
       "      <td>23:58:30</td>\n",
       "      <td>1249</td>\n",
       "      <td>NaN</td>\n",
       "      <td>NaN</td>\n",
       "    </tr>\n",
       "    <tr>\n",
       "      <th>2878</th>\n",
       "      <td>2004</td>\n",
       "      <td>12/26</td>\n",
       "      <td>23:59:00</td>\n",
       "      <td>1240</td>\n",
       "      <td>NaN</td>\n",
       "      <td>NaN</td>\n",
       "    </tr>\n",
       "    <tr>\n",
       "      <th>2879</th>\n",
       "      <td>2004</td>\n",
       "      <td>12/26</td>\n",
       "      <td>23:59:30</td>\n",
       "      <td>1231</td>\n",
       "      <td>NaN</td>\n",
       "      <td>NaN</td>\n",
       "    </tr>\n",
       "  </tbody>\n",
       "</table>\n",
       "<p>2880 rows × 6 columns</p>\n",
       "</div>"
      ],
      "text/plain": [
       "      YEAR  MM/DD     UTC+3  Unnamed: 3  Unnamed: 4  Tide(cm)\n",
       "0     2004  12/26  00:00:00        1250         NaN       NaN\n",
       "1     2004  12/26  00:00:30        1250         NaN       NaN\n",
       "2     2004  12/26  00:01:00        1250         NaN       NaN\n",
       "3     2004  12/26  00:01:30        1250         NaN       NaN\n",
       "4     2004  12/26  00:02:00        1250         NaN       NaN\n",
       "...    ...    ...       ...         ...         ...       ...\n",
       "2875  2004  12/26  23:57:30        1258         NaN       NaN\n",
       "2876  2004  12/26  23:58:00        1256         NaN       NaN\n",
       "2877  2004  12/26  23:58:30        1249         NaN       NaN\n",
       "2878  2004  12/26  23:59:00        1240         NaN       NaN\n",
       "2879  2004  12/26  23:59:30        1231         NaN       NaN\n",
       "\n",
       "[2880 rows x 6 columns]"
      ]
     },
     "execution_count": 4,
     "metadata": {},
     "output_type": "execute_result"
    }
   ],
   "source": [
    "# (a.)\n",
    "df = pd.read_csv('data/week10/20041226.txt', delimiter=' ')\n",
    "df"
   ]
  },
  {
   "cell_type": "code",
   "execution_count": 18,
   "id": "european-cleveland",
   "metadata": {},
   "outputs": [
    {
     "name": "stdout",
     "output_type": "stream",
     "text": [
      "<class 'pandas.core.series.Series'>\n",
      "\n",
      "0      2004-12-26 00:00:00\n",
      "1      2004-12-26 00:00:30\n",
      "2      2004-12-26 00:01:00\n",
      "3      2004-12-26 00:01:30\n",
      "4      2004-12-26 00:02:00\n",
      "               ...        \n",
      "2875   2004-12-26 23:57:30\n",
      "2876   2004-12-26 23:58:00\n",
      "2877   2004-12-26 23:58:30\n",
      "2878   2004-12-26 23:59:00\n",
      "2879   2004-12-26 23:59:30\n",
      "Name: date1, Length: 2880, dtype: datetime64[ns]\n"
     ]
    }
   ],
   "source": [
    "# (b.)\n",
    "cols = ['YEAR', 'MM/DD', 'UTC+3']\n",
    "df['date1'] = df[cols].apply(lambda x: '-'.join(x.values.astype(str)), axis=\"columns\")\n",
    "df['date1'] = pd.to_datetime(df['date1'], format='%Y-%m/%d-%H:%M:%S')\n",
    "print(type(df['date1']))\n",
    "print()\n",
    "print(df['date1'])"
   ]
  },
  {
   "cell_type": "code",
   "execution_count": 24,
   "id": "piano-parks",
   "metadata": {},
   "outputs": [
    {
     "data": {
      "text/plain": [
       "0      2004-12-26 00:00:00\n",
       "1      2004-12-26 00:00:30\n",
       "2      2004-12-26 00:01:00\n",
       "3      2004-12-26 00:01:30\n",
       "4      2004-12-26 00:02:00\n",
       "               ...        \n",
       "2875   2004-12-26 23:57:30\n",
       "2876   2004-12-26 23:58:00\n",
       "2877   2004-12-26 23:58:30\n",
       "2878   2004-12-26 23:59:00\n",
       "2879   2004-12-26 23:59:30\n",
       "Name: combo_time_strs, Length: 2880, dtype: datetime64[ns]"
      ]
     },
     "execution_count": 24,
     "metadata": {},
     "output_type": "execute_result"
    }
   ],
   "source": [
    "# (c.)\n",
    "df['year_strs'] = df['YEAR'].apply(str)\n",
    "df['month_day_strs'] = df['MM/DD'].apply(str)\n",
    "df['time_strs'] = df['UTC+3'].apply(str)\n",
    "df['combo_time_strs'] = df['year_strs'] + df['month_day_strs'] + df['time_strs']\n",
    "df['combo_time_strs'] = df[['year_strs', 'month_day_strs', 'time_strs']].agg('-'.join, axis=1)\n",
    "df['combo_time_strs'] = df['combo_time_strs'].str.replace('/','-')\n",
    "pd.to_datetime(df['combo_time_strs'])"
   ]
  },
  {
   "cell_type": "markdown",
   "id": "human-clear",
   "metadata": {},
   "source": [
    "### (2)  Practice with decoding time in Pandas, Part II\n",
    "**Instructions**\n",
    "- (a.) Read in radiation data collected every 30 minutes near Champaign ('889299_40.13_-88.26_2019.csv')....since you've been working with different types of radiation data lately!\n",
    "    - You WILL need to add something extra to your pd.read_csv statement, yes?\n",
    "<br><br>\n",
    "- (b.) Take columns containing date-time information and create *datetime64* objects, save to a new column, print this new column, and print the type of the new column\n",
    "<br><br>\n",
    "- (c.) We'll work more with this data soon - likely next week!"
   ]
  },
  {
   "cell_type": "code",
   "execution_count": 58,
   "id": "18b17bba",
   "metadata": {},
   "outputs": [
    {
     "name": "stdout",
     "output_type": "stream",
     "text": [
      "0       2019-01-01 00:00:00\n",
      "1       2019-01-01 00:30:00\n",
      "2       2019-01-01 01:00:00\n",
      "3       2019-01-01 01:30:00\n",
      "4       2019-01-01 02:00:00\n",
      "                ...        \n",
      "17515   2019-12-31 21:30:00\n",
      "17516   2019-12-31 22:00:00\n",
      "17517   2019-12-31 22:30:00\n",
      "17518   2019-12-31 23:00:00\n",
      "17519   2019-12-31 23:30:00\n",
      "Name: 2spooky4u, Length: 17520, dtype: datetime64[ns]\n"
     ]
    }
   ],
   "source": [
    "# (a, b)\n",
    "df = pd.read_csv(\n",
    "    'data/week10/889299_40.13_-88.26_2019.csv', \n",
    "    header=2, \n",
    "    parse_dates=[1,2,3,4,5]).dropna(axis='columns')\n",
    "df['2spooky4u'] = pd.to_datetime(df[['Year','Month','Day', 'Hour', 'Minute']].astype(str).apply(' '.join, 1), format='%Y %m %d %H %M')\n",
    "print(df['2spooky4u'])"
   ]
  },
  {
   "cell_type": "code",
   "execution_count": null,
   "id": "17afa5c5",
   "metadata": {},
   "outputs": [],
   "source": []
  }
 ],
 "metadata": {
  "kernelspec": {
   "display_name": "Python 3 (ipykernel)",
   "language": "python",
   "name": "python3"
  },
  "language_info": {
   "codemirror_mode": {
    "name": "ipython",
    "version": 3
   },
   "file_extension": ".py",
   "mimetype": "text/x-python",
   "name": "python",
   "nbconvert_exporter": "python",
   "pygments_lexer": "ipython3",
   "version": "3.9.7"
  }
 },
 "nbformat": 4,
 "nbformat_minor": 5
}
