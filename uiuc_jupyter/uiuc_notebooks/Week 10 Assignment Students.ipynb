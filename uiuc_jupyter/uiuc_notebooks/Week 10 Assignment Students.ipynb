{
 "cells": [
  {
   "cell_type": "code",
   "execution_count": 1,
   "id": "557f8050",
   "metadata": {},
   "outputs": [],
   "source": [
    "import pandas as pd\n",
    "from matplotlib import pyplot as plt\n",
    "import numpy as np\n",
    "import seaborn as sb\n",
    "\n",
    "# New - may need to install statsmodels and sklearn packages\n",
    "import statsmodels.api as sm\n",
    "from sklearn.metrics import mean_squared_error # may need to install sklearn - machine learning package"
   ]
  },
  {
   "cell_type": "markdown",
   "id": "bc6a2689",
   "metadata": {},
   "source": [
    "## Week 10 Assignment: Evaluating Linear Regression Model, Conceptually\n",
    "\n",
    "#### Data:  Pressure, temperature, and precipitation data from Guayaquil, Ecuador, June 1950-1970: 'June_Guayaquil.csv'\n",
    "- This data is sample data used in your stats textbook!  Pressure, temperature, and precipitation data collected in Ecuador over 20 years of Junes!\n",
    "<br><br>\n",
    "- You'll read in the data, do some processing and EDA\n",
    "<br><br>\n",
    "- Then, you'll run a linear regression model and interpret the various evaluation metrics!\n",
    "   - Don't worry - I will give you the code for the linear regression model itself (you'll learn how to do this yourself in a few weeks, formally)\n",
    "   - You'll just decide what variable is X (predictor) and which is Y (predictand)\n",
    "   - And then interpret RMSE, R^2, statistical significance, and the residuals!"
   ]
  },
  {
   "cell_type": "markdown",
   "id": "449ceede",
   "metadata": {},
   "source": [
    "#### (1)  Read in the data.  What should be your index?  Does the data need cleaning in any way?  Do what is needed."
   ]
  },
  {
   "cell_type": "code",
   "execution_count": 13,
   "id": "9559f400",
   "metadata": {},
   "outputs": [
    {
     "name": "stdout",
     "output_type": "stream",
     "text": [
      "      Temperature, C  Precipitation, mm  Pressure, mb\n",
      "Year                                                 \n",
      "1951            26.1               43.0        1009.5\n",
      "1952            24.5               10.0        1010.9\n",
      "1953            24.8                4.0        1010.7\n",
      "1954            24.5                0.0        1011.2\n",
      "1955            24.1                2.0        1011.9\n",
      "1956            24.3                NaN        1011.2\n",
      "1957            26.4               31.0        1009.3\n",
      "1958            24.9                0.0        1011.1\n",
      "1959            23.7                0.0        1012.0\n",
      "1960            23.5                0.0        1011.4\n",
      "1961            24.0                2.0        1010.9\n",
      "1962            24.1                3.0        1011.5\n",
      "1963            23.7                0.0        1011.0\n",
      "1964            24.3                4.0        1011.2\n",
      "1965            26.6               15.0        1009.9\n",
      "1966            24.6                2.0        1012.5\n",
      "1967            24.8                0.0        1011.1\n",
      "1968            24.4                1.0        1011.8\n",
      "1969            26.8              127.0        1009.3\n",
      "1970            25.2                2.0        1010.6\n"
     ]
    }
   ],
   "source": [
    "df = pd.read_csv('data/week10/June_Guayaquil.csv', index_col='Year')\n",
    "print(df)"
   ]
  },
  {
   "cell_type": "code",
   "execution_count": 36,
   "id": "8d4ef3d3",
   "metadata": {},
   "outputs": [
    {
     "name": "stdout",
     "output_type": "stream",
     "text": [
      "      Temperature, C  Precipitation, mm  Pressure, mb\n",
      "Year                                                 \n",
      "1951            26.1               43.0        1009.5\n",
      "1952            24.5               10.0        1010.9\n",
      "1953            24.8                4.0        1010.7\n",
      "1954            24.5                0.0        1011.2\n",
      "1955            24.1                2.0        1011.9\n",
      "1957            26.4               31.0        1009.3\n",
      "1958            24.9                0.0        1011.1\n",
      "1959            23.7                0.0        1012.0\n",
      "1960            23.5                0.0        1011.4\n",
      "1961            24.0                2.0        1010.9\n",
      "1962            24.1                3.0        1011.5\n",
      "1963            23.7                0.0        1011.0\n",
      "1964            24.3                4.0        1011.2\n",
      "1965            26.6               15.0        1009.9\n",
      "1966            24.6                2.0        1012.5\n",
      "1967            24.8                0.0        1011.1\n",
      "1968            24.4                1.0        1011.8\n",
      "1969            26.8              127.0        1009.3\n",
      "1970            25.2                2.0        1010.6\n"
     ]
    }
   ],
   "source": [
    "df.dropna(axis=0, inplace=True)\n",
    "print(df)"
   ]
  },
  {
   "cell_type": "markdown",
   "id": "183745ab",
   "metadata": {},
   "source": []
  },
  {
   "cell_type": "markdown",
   "id": "92550cc0",
   "metadata": {},
   "source": [
    "#### (2)  \n",
    "#### (a.) Do exploratory data analysis (specifically, from your lessons, Step #3 of visualizing any relationships, etc., as you already cleaned your data in the previous step).    \n",
    "\n",
    "#### (b.)  From your EDA, which two variables do you want to run a linear regression on, and why?"
   ]
  },
  {
   "cell_type": "code",
   "execution_count": 37,
   "id": "2ee05904",
   "metadata": {},
   "outputs": [
    {
     "name": "stdout",
     "output_type": "stream",
     "text": [
      "                   Temperature, C  Precipitation, mm  Pressure, mb\n",
      "Temperature, C           1.000000           0.702853     -0.830022\n",
      "Precipitation, mm        0.702853           1.000000     -0.677534\n",
      "Pressure, mb            -0.830022          -0.677534      1.000000\n"
     ]
    }
   ],
   "source": [
    "corr = df.corr()\n",
    "type(corr)\n",
    "print(corr)"
   ]
  },
  {
   "cell_type": "code",
   "execution_count": 38,
   "id": "a3a5bed6",
   "metadata": {},
   "outputs": [
    {
     "name": "stdout",
     "output_type": "stream",
     "text": [
      "Temperature and precipitation due to the implied strong\n",
      "relationship between them due to the correlation coefficient of 0.702853\n"
     ]
    }
   ],
   "source": [
    "print(f'Temperature and precipitation due to the implied strong\\n\\\n",
    "relationship between them due to the correlation coefficient of 0.702853')"
   ]
  },
  {
   "cell_type": "markdown",
   "id": "10a04297",
   "metadata": {},
   "source": [
    "#### (3)  Now, run the linear regression! \n",
    "#### First, set x = your predictor, and y = your predictand.  Make no more changes in this code block, it will create the linear regression for you, as well as spit out the evaluation metrics."
   ]
  },
  {
   "cell_type": "code",
   "execution_count": 39,
   "id": "1f881f90",
   "metadata": {},
   "outputs": [
    {
     "name": "stdout",
     "output_type": "stream",
     "text": [
      "      Temperature, C  Precipitation, mm  Pressure, mb\n",
      "Year                                                 \n",
      "1951            26.1               43.0        1009.5\n",
      "1952            24.5               10.0        1010.9\n",
      "1953            24.8                4.0        1010.7\n",
      "1954            24.5                0.0        1011.2\n",
      "1955            24.1                2.0        1011.9\n",
      "1957            26.4               31.0        1009.3\n",
      "1958            24.9                0.0        1011.1\n",
      "1959            23.7                0.0        1012.0\n",
      "1960            23.5                0.0        1011.4\n",
      "1961            24.0                2.0        1010.9\n",
      "1962            24.1                3.0        1011.5\n",
      "1963            23.7                0.0        1011.0\n",
      "1964            24.3                4.0        1011.2\n",
      "1965            26.6               15.0        1009.9\n",
      "1966            24.6                2.0        1012.5\n",
      "1967            24.8                0.0        1011.1\n",
      "1968            24.4                1.0        1011.8\n",
      "1969            26.8              127.0        1009.3\n",
      "1970            25.2                2.0        1010.6\n"
     ]
    }
   ],
   "source": [
    "print(df)\n",
    "x = df['Temperature, C']\n",
    "y = df['Precipitation, mm']\n",
    "\n",
    "# I run the linear regression\n",
    "x2 = sm.add_constant(x) # necessary if we want regression equation to have intercept\n",
    "\n",
    "mod_uni = sm.OLS(y,x2).fit()\n",
    "y_pred_uni = mod_uni.fittedvalues\n",
    "\n",
    "# What if wanted to make predictions using different data for x?\n",
    "# mod_uni.predict(x2) # make the predictions by the model"
   ]
  },
  {
   "cell_type": "code",
   "execution_count": 40,
   "id": "8cb8e164",
   "metadata": {},
   "outputs": [
    {
     "name": "stdout",
     "output_type": "stream",
     "text": [
      "                            OLS Regression Results                            \n",
      "==============================================================================\n",
      "Dep. Variable:      Precipitation, mm   R-squared:                       0.494\n",
      "Model:                            OLS   Adj. R-squared:                  0.464\n",
      "Method:                 Least Squares   F-statistic:                     16.60\n",
      "Date:                Sat, 30 Oct 2021   Prob (F-statistic):           0.000790\n",
      "Time:                        00:04:46   Log-Likelihood:                -84.560\n",
      "No. Observations:                  19   AIC:                             173.1\n",
      "Df Residuals:                      17   BIC:                             175.0\n",
      "Df Model:                           1                                         \n",
      "Covariance Type:            nonrobust                                         \n",
      "==================================================================================\n",
      "                     coef    std err          t      P>|t|      [0.025      0.975]\n",
      "----------------------------------------------------------------------------------\n",
      "const           -508.4759    128.089     -3.970      0.001    -778.719    -238.232\n",
      "Temperature, C    21.0341      5.163      4.074      0.001      10.141      31.927\n",
      "==============================================================================\n",
      "Omnibus:                       21.678   Durbin-Watson:                   2.191\n",
      "Prob(Omnibus):                  0.000   Jarque-Bera (JB):               31.509\n",
      "Skew:                           1.827   Prob(JB):                     1.44e-07\n",
      "Kurtosis:                       8.143   Cond. No.                         633.\n",
      "==============================================================================\n",
      "\n",
      "Notes:\n",
      "[1] Standard Errors assume that the covariance matrix of the errors is correctly specified.\n"
     ]
    },
    {
     "name": "stderr",
     "output_type": "stream",
     "text": [
      "/opt/conda/lib/python3.9/site-packages/scipy/stats/stats.py:1541: UserWarning: kurtosistest only valid for n>=20 ... continuing anyway, n=19\n",
      "  warnings.warn(\"kurtosistest only valid for n>=20 ... continuing \"\n"
     ]
    }
   ],
   "source": [
    "# Let's print out some model evaluation metrics!\n",
    "# See your lessons for how to read this \"summary\"\n",
    "print(mod_uni.summary())"
   ]
  },
  {
   "cell_type": "code",
   "execution_count": 41,
   "id": "56e0fc5e",
   "metadata": {},
   "outputs": [
    {
     "name": "stdout",
     "output_type": "stream",
     "text": [
      "RMSE =  20.730425327252874\n"
     ]
    }
   ],
   "source": [
    "# Here is RMSE\n",
    "rmse_err_uni = mean_squared_error(y, y_pred_uni,squared=False)\n",
    "print('RMSE = ',rmse_err_uni)"
   ]
  },
  {
   "cell_type": "code",
   "execution_count": 42,
   "id": "767bfad7",
   "metadata": {},
   "outputs": [
    {
     "name": "stdout",
     "output_type": "stream",
     "text": [
      "R^2 =  0.49400218242601335\n"
     ]
    }
   ],
   "source": [
    "# And R^2 (which is also outputted as a part of the above table)\n",
    "print('R^2 = ',mod_uni.rsquared)"
   ]
  },
  {
   "cell_type": "code",
   "execution_count": 43,
   "id": "a2ec0693",
   "metadata": {},
   "outputs": [
    {
     "data": {
      "text/plain": [
       "[<matplotlib.lines.Line2D at 0x7ff739abc520>]"
      ]
     },
     "execution_count": 43,
     "metadata": {},
     "output_type": "execute_result"
    },
    {
     "data": {
      "image/png": "[encoded data removed]",
      "text/plain": [
       "<Figure size 432x288 with 1 Axes>"
      ]
     },
     "metadata": {
      "needs_background": "light"
     },
     "output_type": "display_data"
    }
   ],
   "source": [
    "# Here's your linear regression line plotted against your original data, so you can visualize the \"fit\"\n",
    "\n",
    "fig,ax=plt.subplots()\n",
    "ax.scatter(x, y, color='blue')\n",
    "\n",
    "ax.set_xlabel('Predictor')\n",
    "ax.set_ylabel('Predictand')\n",
    "ax.set_title('Univariate Linear Regression')\n",
    "\n",
    "ax.plot(x, y_pred_uni, color='red',linewidth=4)"
   ]
  },
  {
   "cell_type": "code",
   "execution_count": 44,
   "id": "1ecaca46",
   "metadata": {
    "scrolled": true
   },
   "outputs": [
    {
     "data": {
      "text/plain": [
       "Text(0.5, 1.0, 'Residuals')"
      ]
     },
     "execution_count": 44,
     "metadata": {},
     "output_type": "execute_result"
    },
    {
     "data": {
      "image/png": "[encoded data removed]",
      "text/plain": [
       "<Figure size 432x288 with 1 Axes>"
      ]
     },
     "metadata": {
      "needs_background": "light"
     },
     "output_type": "display_data"
    }
   ],
   "source": [
    "# And here are the residuals from the regression!\n",
    "fig,ax=plt.subplots()\n",
    "ax.scatter(x, y-y_pred_uni,color='b')\n",
    "ax.set_xlabel('Predictor')\n",
    "ax.set_ylabel('Residual')\n",
    "ax.set_title('Residuals')"
   ]
  },
  {
   "cell_type": "markdown",
   "id": "f0004c11",
   "metadata": {},
   "source": [
    "#### (4)  To finish - comment on EACH of the FOUR evaluation metrics for this regression and in at least a FEW sentences for each, discuss what each metric tells us about this regression model we've created AND what each metric tells us about how \"good' this model is.  \n",
    "#### Then, based on all four metrics, give your overall evaluation of the regression model and how 'good' it is, including anything we could consider doing differently to improve this model.\n",
    "#### (a)  R^2 \n",
    "#### (b) RMSE\n",
    "#### (c) Statistical significance\n",
    "#### (d) Patterns in residuals\n",
    "#### (e) Overall conclusion based on the four evaluation metrics, and any future steps for improvement!"
   ]
  },
  {
   "cell_type": "markdown",
   "id": "24805742",
   "metadata": {},
   "source": [
    "### (a) R^2\n",
    "Our R<sup>2</sup> value indicates that while this model is likely a good first attempt a a predictor, it is likely requiers tuning to perform optimally."
   ]
  },
  {
   "cell_type": "markdown",
   "id": "489d6fe1",
   "metadata": {},
   "source": [
    "### (b) RMSE\n",
    "Our RMSE indicates that this model is likely accurate to +/- 20 degrees. That seems ok for this model given the lack of data."
   ]
  },
  {
   "cell_type": "markdown",
   "id": "0ff454d8",
   "metadata": {},
   "source": [
    "### (c) Statistical significance\n",
    "The p-values here confirm unequivocally that there is a strong statistically significant relationship between our variables. "
   ]
  },
  {
   "cell_type": "markdown",
   "id": "4b203025",
   "metadata": {},
   "source": [
    "### (d) Patterns in residuals\n",
    "The residuals exhibit a clear linear pattern. This indicates that we likely have a fundamental problem with our model, and we should evaluate if this prediction is indeed appropriate based upon the input dataset."
   ]
  },
  {
   "cell_type": "markdown",
   "id": "1e10623e",
   "metadata": {},
   "source": [
    "### (e) Overall conclusion about your model\n",
    "While there is a strong statistically significant correlation here, I think that this model is only useful for this one spot, and should be taken with a <i>very</i> strong grain of salt due to the many other factors that influence the temperature."
   ]
  },
  {
   "cell_type": "code",
   "execution_count": null,
   "id": "2f23f6f2",
   "metadata": {},
   "outputs": [],
   "source": []
  }
 ],
 "metadata": {
  "kernelspec": {
   "display_name": "Python 3 (ipykernel)",
   "language": "python",
   "name": "python3"
  },
  "language_info": {
   "codemirror_mode": {
    "name": "ipython",
    "version": 3
   },
   "file_extension": ".py",
   "mimetype": "text/x-python",
   "name": "python",
   "nbconvert_exporter": "python",
   "pygments_lexer": "ipython3",
   "version": "3.9.7"
  }
 },
 "nbformat": 4,
 "nbformat_minor": 5
}
