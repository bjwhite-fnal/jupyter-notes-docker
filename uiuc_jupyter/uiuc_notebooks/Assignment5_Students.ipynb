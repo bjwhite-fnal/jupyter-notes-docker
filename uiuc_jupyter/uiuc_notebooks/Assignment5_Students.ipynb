{
 "cells": [
  {
   "cell_type": "markdown",
   "id": "overhead-pearl",
   "metadata": {},
   "source": [
    "# Precipitation Analysis - Part II!\n",
    "- In this assignment, you'll use the same data as your last assignment\n",
    "<br><br>\n",
    "- Only instead of primarily considering data JUST at the approximate location of campus \n",
    "<br><br>\n",
    "- We'll instead consider United-States-wide data, *spatially* - so now we're working with more dimensions, yes?\n",
    "<br><br>\n",
    "- This will include doing additional logical/comparisons operations\n",
    "<br><br>\n",
    "- AND creating maps of the results of those operations!"
   ]
  },
  {
   "cell_type": "markdown",
   "id": "alone-child",
   "metadata": {},
   "source": [
    "#### Import xarray as xr, numpy as np, and pyplot from matplotlib as plt"
   ]
  },
  {
   "cell_type": "code",
   "execution_count": 4,
   "id": "loving-quilt",
   "metadata": {},
   "outputs": [],
   "source": [
    "import xarray as xr\n",
    "import numpy as np\n",
    "from matplotlib import pyplot as plt"
   ]
  },
  {
   "cell_type": "markdown",
   "id": "intense-bacon",
   "metadata": {},
   "source": [
    "#### Let's access our dataset remotely without downloading it!  *I GIVE YOU THE CODE FOR THIS*\n",
    "\n",
    "- this data is on an OpeNDAP server, which allows us to remotely access it and use it without downloading it\n",
    "- more info on OpeNDAP: https://psl.noaa.gov/data/gridded/using_dods.html\n",
    "- OpeNDAP is used by NOAA, NASA, etc.\n",
    "<br><br>\n",
    "- pass address of data on server into an Xarray open function, just like you would a usual, local-to-you file path (*I'll give you the code since you don't know Xarray yet!*)\n",
    "<br><br>\n",
    "- address of data: 'https://psl.noaa.gov/thredds/dodsC/Datasets/cpc_us_precip/RT/precip.V1.0.2020.nc'\n",
    "   - seems to be a typo on the data webpage of the OpeNDAP link - so we'll use above\n",
    "<br><br>\n",
    "- having issues with this?  Make sure Netcdf4 module has been installed! Still issues?  *Post on Slack!*"
   ]
  },
  {
   "cell_type": "code",
   "execution_count": 5,
   "id": "greatest-peripheral",
   "metadata": {},
   "outputs": [],
   "source": [
    "import xarray as xr\n",
    "# open_dataarray is one of the main functions in Xarray to open a Netcdf file!\n",
    "remote_data = xr.open_dataarray('precip.V1.0.2020.nc')"
   ]
  },
  {
   "cell_type": "markdown",
   "id": "unlimited-terrain",
   "metadata": {},
   "source": [
    "#### Prints out information about the data in this Netcdf file.  *I GIVE YOU THE CODE FOR THIS*\n",
    "- Remember: Netcdf is a binary file format, and we'll work a lot with it in future using the Xarray package, especially for *spatial* data!"
   ]
  },
  {
   "cell_type": "code",
   "execution_count": 7,
   "id": "occasional-champagne",
   "metadata": {},
   "outputs": [
    {
     "name": "stdout",
     "output_type": "stream",
     "text": [
      "<xarray.DataArray 'precip' (time: 366, lat: 120, lon: 300)>\n",
      "[13176000 values with dtype=float32]\n",
      "Coordinates:\n",
      "  * lat      (lat) float32 20.12 20.38 20.62 20.88 ... 49.12 49.38 49.62 49.88\n",
      "  * lon      (lon) float32 230.1 230.4 230.6 230.9 ... 304.1 304.4 304.6 304.9\n",
      "  * time     (time) datetime64[ns] 2020-01-01 2020-01-02 ... 2020-12-31\n",
      "Attributes:\n",
      "    long_name:     Daily Accumulated Precipitation\n",
      "    valid_range:   [  0. 400.]\n",
      "    units:         mm\n",
      "    precision:     2\n",
      "    var_desc:      Precipitation\n",
      "    dataset:       CPC Unified Gauge-Based Analysis of Daily Precipitation ov...\n",
      "    level_desc:    Surface\n",
      "    statistic:     Daily Accumulation\n",
      "    parent_stat:   Observation\n",
      "    actual_range:  [  0.      274.80292]\n",
      "(array([4.920733e+06, 5.554600e+04, 8.446000e+03, 1.742000e+03,\n",
      "       4.370000e+02, 1.480000e+02, 4.100000e+01, 1.800000e+01,\n",
      "       4.000000e+00, 1.000000e+00]), array([  0.      ,  27.480291,  54.960583,  82.44087 , 109.921165,\n",
      "       137.40146 , 164.88174 , 192.36205 , 219.84233 , 247.32263 ,\n",
      "       274.80292 ], dtype=float32), <BarContainer object of 10 artists>)\n",
      "Coordinates:\n",
      "  * lat      (lat) float32 20.12 20.38 20.62 20.88 ... 49.12 49.38 49.62 49.88\n",
      "  * lon      (lon) float32 230.1 230.4 230.6 230.9 ... 304.1 304.4 304.6 304.9\n",
      "  * time     (time) datetime64[ns] 2020-01-01 2020-01-02 ... 2020-12-31\n"
     ]
    },
    {
     "data": {
      "image/png": "[encoded data removed]",
      "text/plain": [
       "<Figure size 432x288 with 1 Axes>"
      ]
     },
     "metadata": {
      "needs_background": "light"
     },
     "output_type": "display_data"
    }
   ],
   "source": [
    "# Prints\n",
    "print(remote_data)\n",
    "print(remote_data.plot())\n",
    "print(remote_data.coords)"
   ]
  },
  {
   "cell_type": "markdown",
   "id": "immediate-somalia",
   "metadata": {},
   "source": [
    "## *FILL IN THIS Q FROM YOUR LAST ASSIGNMENT, YOU'LL WANT TO REMIND YOURSELF OF THE COORDINATES/DIMENSIONS*:  \n",
    "#### Let's start thinking more about spatial data (much more to follow in next week's lessons!) Based on the metadata printed out above:\n",
    " - (a.)  what are units of this data - precip? \n",
    "<br><br>\n",
    " - (b.)  what are the coordinates of this data?  \n",
    "    - You *MUST* include a description of the direction of the order of each of the spatial coordinates (northward? southward? eastward? westward?)"
   ]
  },
  {
   "cell_type": "markdown",
   "id": "a72c73fd",
   "metadata": {},
   "source": [
    "a) millimeters"
   ]
  },
  {
   "cell_type": "markdown",
   "id": "24cbc601",
   "metadata": {},
   "source": [
    "b) Starting at an origin (20.12, 230.1) in the southwest, the coordinates form a grid going to the northeast and endnig at (49.88, 304.9)"
   ]
  },
  {
   "cell_type": "markdown",
   "id": "pressing-liberia",
   "metadata": {},
   "source": [
    "#### Save the coordinate variables of lat, lon, and time each to their own variable (technically, each a data array) *I GIVE YOU THE CODE FOR THIS*"
   ]
  },
  {
   "cell_type": "code",
   "execution_count": 8,
   "id": "mysterious-observer",
   "metadata": {},
   "outputs": [
    {
     "name": "stdout",
     "output_type": "stream",
     "text": [
      "<xarray.DataArray 'lat' (lat: 120)>\n",
      "array([20.125, 20.375, 20.625, 20.875, 21.125, 21.375, 21.625, 21.875, 22.125,\n",
      "       22.375, 22.625, 22.875, 23.125, 23.375, 23.625, 23.875, 24.125, 24.375,\n",
      "       24.625, 24.875, 25.125, 25.375, 25.625, 25.875, 26.125, 26.375, 26.625,\n",
      "       26.875, 27.125, 27.375, 27.625, 27.875, 28.125, 28.375, 28.625, 28.875,\n",
      "       29.125, 29.375, 29.625, 29.875, 30.125, 30.375, 30.625, 30.875, 31.125,\n",
      "       31.375, 31.625, 31.875, 32.125, 32.375, 32.625, 32.875, 33.125, 33.375,\n",
      "       33.625, 33.875, 34.125, 34.375, 34.625, 34.875, 35.125, 35.375, 35.625,\n",
      "       35.875, 36.125, 36.375, 36.625, 36.875, 37.125, 37.375, 37.625, 37.875,\n",
      "       38.125, 38.375, 38.625, 38.875, 39.125, 39.375, 39.625, 39.875, 40.125,\n",
      "       40.375, 40.625, 40.875, 41.125, 41.375, 41.625, 41.875, 42.125, 42.375,\n",
      "       42.625, 42.875, 43.125, 43.375, 43.625, 43.875, 44.125, 44.375, 44.625,\n",
      "       44.875, 45.125, 45.375, 45.625, 45.875, 46.125, 46.375, 46.625, 46.875,\n",
      "       47.125, 47.375, 47.625, 47.875, 48.125, 48.375, 48.625, 48.875, 49.125,\n",
      "       49.375, 49.625, 49.875], dtype=float32)\n",
      "Coordinates:\n",
      "  * lat      (lat) float32 20.12 20.38 20.62 20.88 ... 49.12 49.38 49.62 49.88\n",
      "Attributes:\n",
      "    units:          degrees_north\n",
      "    long_name:      Latitude\n",
      "    actual_range:   [20.125 49.875]\n",
      "    standard_name:  latitude\n",
      "    axis:           Y\n",
      "<xarray.DataArray 'lon' (lon: 300)>\n",
      "array([230.125, 230.375, 230.625, ..., 304.375, 304.625, 304.875],\n",
      "      dtype=float32)\n",
      "Coordinates:\n",
      "  * lon      (lon) float32 230.1 230.4 230.6 230.9 ... 304.1 304.4 304.6 304.9\n",
      "Attributes:\n",
      "    units:          degrees_east\n",
      "    long_name:      Longitude\n",
      "    actual_range:   [230.125 304.875]\n",
      "    standard_name:  longitude\n",
      "    axis:           X\n"
     ]
    }
   ],
   "source": [
    "lat2 = remote_data['lat'] # these are *coordinate* variables in the Netcdf file\n",
    "print(lat2)\n",
    "lon2 = remote_data['lon']\n",
    "print(lon2)\n",
    "times2 = remote_data['time']"
   ]
  },
  {
   "cell_type": "markdown",
   "id": "municipal-fifty",
   "metadata": {},
   "source": [
    "#### Convert each of the three data arrays into a NumPy array  *I GIVE YOU THE CODE FOR THIS*\n",
    "- Since you haven't learned Xarray yet, let's get data into a format you know how to work with!"
   ]
  },
  {
   "cell_type": "code",
   "execution_count": 9,
   "id": "verified-visibility",
   "metadata": {},
   "outputs": [],
   "source": [
    "precip = remote_data.values # nifty function that converts the Xarray data structure into a NumPy array\n",
    "lat = lat2.values \n",
    "lon = lon2.values"
   ]
  },
  {
   "cell_type": "markdown",
   "id": "photographic-ecuador",
   "metadata": {},
   "source": [
    "## *FILL IN THIS Q FROM YOUR LAST ASSIGNMENT, YOU'LL WANT TO REMIND YOURSELF OF THE COORDINATES/DIMENSIONS*:  \n",
    "####  Evaluating dimensions!\n",
    " - (a.) Evaluate and print the shape of each of these three NumPy arrays: lat, lon, and precip\n",
    "<br><br>\n",
    " - (b.) What are the dimensions of precip, physically, based on your answer to (a.), and your work in Q1?  <br><br>\n",
    " - (c.) And what *order* are the dimensions in?"
   ]
  },
  {
   "cell_type": "code",
   "execution_count": 11,
   "id": "peaceful-biotechnology",
   "metadata": {},
   "outputs": [
    {
     "name": "stdout",
     "output_type": "stream",
     "text": [
      "A: Shapes\n",
      "\tLat: (120,)\n",
      "\tLon: (300,)\n",
      "\tPrecip: (366, 120, 300)\n",
      "\n"
     ]
    }
   ],
   "source": [
    "print(f'A: Shapes\\n\\tLat: {np.shape(lat)}\\n\\tLon: {np.shape(lon)}\\n\\tPrecip: {np.shape(precip)}\\n')"
   ]
  },
  {
   "cell_type": "markdown",
   "id": "92d8f93a",
   "metadata": {},
   "source": [
    "B.\n",
    "Time, latitude, longitude\n",
    "\n",
    "C.\n",
    "Time, latitude, longitude"
   ]
  },
  {
   "cell_type": "markdown",
   "id": "relative-tomorrow",
   "metadata": {},
   "source": [
    "## *HERE BEGINS NEW QUESTIONS JUST FOR THIS ASSIGNMENT*: \n",
    "#### (1)  As you may have noticed if you've played around with outputting some precip values, our array consists of NaNs in the ocean locations\n",
    "- (a.) create a mask that identifies and masks out NaNs, and save your masked variable to a new variable - *you learned a formal way to do this in your lessons this week!*\n",
    "<br><br>\n",
    "- (b.) print out the masked variable, the mask itself, and your original data\n",
    "<br><br>\n",
    "- (c.) this is prep for the next question, when we're considering data in all locations, not just at UIUC where there is no missing data, and don't want to deal with NaNs"
   ]
  },
  {
   "cell_type": "code",
   "execution_count": 24,
   "id": "mature-observer",
   "metadata": {},
   "outputs": [
    {
     "name": "stdout",
     "output_type": "stream",
     "text": [
      "Masked precip:\n",
      "[[[-- -- -- ... -- -- --]\n",
      "  [-- -- -- ... -- -- --]\n",
      "  [-- -- -- ... -- -- --]\n",
      "  ...\n",
      "  [-- -- -- ... -- -- --]\n",
      "  [-- -- -- ... -- -- --]\n",
      "  [-- -- -- ... -- -- --]]\n",
      "\n",
      " [[-- -- -- ... -- -- --]\n",
      "  [-- -- -- ... -- -- --]\n",
      "  [-- -- -- ... -- -- --]\n",
      "  ...\n",
      "  [-- -- -- ... -- -- --]\n",
      "  [-- -- -- ... -- -- --]\n",
      "  [-- -- -- ... -- -- --]]\n",
      "\n",
      " [[-- -- -- ... -- -- --]\n",
      "  [-- -- -- ... -- -- --]\n",
      "  [-- -- -- ... -- -- --]\n",
      "  ...\n",
      "  [-- -- -- ... -- -- --]\n",
      "  [-- -- -- ... -- -- --]\n",
      "  [-- -- -- ... -- -- --]]\n",
      "\n",
      " ...\n",
      "\n",
      " [[-- -- -- ... -- -- --]\n",
      "  [-- -- -- ... -- -- --]\n",
      "  [-- -- -- ... -- -- --]\n",
      "  ...\n",
      "  [-- -- -- ... -- -- --]\n",
      "  [-- -- -- ... -- -- --]\n",
      "  [-- -- -- ... -- -- --]]\n",
      "\n",
      " [[-- -- -- ... -- -- --]\n",
      "  [-- -- -- ... -- -- --]\n",
      "  [-- -- -- ... -- -- --]\n",
      "  ...\n",
      "  [-- -- -- ... -- -- --]\n",
      "  [-- -- -- ... -- -- --]\n",
      "  [-- -- -- ... -- -- --]]\n",
      "\n",
      " [[-- -- -- ... -- -- --]\n",
      "  [-- -- -- ... -- -- --]\n",
      "  [-- -- -- ... -- -- --]\n",
      "  ...\n",
      "  [-- -- -- ... -- -- --]\n",
      "  [-- -- -- ... -- -- --]\n",
      "  [-- -- -- ... -- -- --]]]\n",
      "Mask:\n",
      "[[[ True  True  True ...  True  True  True]\n",
      "  [ True  True  True ...  True  True  True]\n",
      "  [ True  True  True ...  True  True  True]\n",
      "  ...\n",
      "  [ True  True  True ...  True  True  True]\n",
      "  [ True  True  True ...  True  True  True]\n",
      "  [ True  True  True ...  True  True  True]]\n",
      "\n",
      " [[ True  True  True ...  True  True  True]\n",
      "  [ True  True  True ...  True  True  True]\n",
      "  [ True  True  True ...  True  True  True]\n",
      "  ...\n",
      "  [ True  True  True ...  True  True  True]\n",
      "  [ True  True  True ...  True  True  True]\n",
      "  [ True  True  True ...  True  True  True]]\n",
      "\n",
      " [[ True  True  True ...  True  True  True]\n",
      "  [ True  True  True ...  True  True  True]\n",
      "  [ True  True  True ...  True  True  True]\n",
      "  ...\n",
      "  [ True  True  True ...  True  True  True]\n",
      "  [ True  True  True ...  True  True  True]\n",
      "  [ True  True  True ...  True  True  True]]\n",
      "\n",
      " ...\n",
      "\n",
      " [[ True  True  True ...  True  True  True]\n",
      "  [ True  True  True ...  True  True  True]\n",
      "  [ True  True  True ...  True  True  True]\n",
      "  ...\n",
      "  [ True  True  True ...  True  True  True]\n",
      "  [ True  True  True ...  True  True  True]\n",
      "  [ True  True  True ...  True  True  True]]\n",
      "\n",
      " [[ True  True  True ...  True  True  True]\n",
      "  [ True  True  True ...  True  True  True]\n",
      "  [ True  True  True ...  True  True  True]\n",
      "  ...\n",
      "  [ True  True  True ...  True  True  True]\n",
      "  [ True  True  True ...  True  True  True]\n",
      "  [ True  True  True ...  True  True  True]]\n",
      "\n",
      " [[ True  True  True ...  True  True  True]\n",
      "  [ True  True  True ...  True  True  True]\n",
      "  [ True  True  True ...  True  True  True]\n",
      "  ...\n",
      "  [ True  True  True ...  True  True  True]\n",
      "  [ True  True  True ...  True  True  True]\n",
      "  [ True  True  True ...  True  True  True]]]\n",
      "Original:\n",
      "[[[nan nan nan ... nan nan nan]\n",
      "  [nan nan nan ... nan nan nan]\n",
      "  [nan nan nan ... nan nan nan]\n",
      "  ...\n",
      "  [nan nan nan ... nan nan nan]\n",
      "  [nan nan nan ... nan nan nan]\n",
      "  [nan nan nan ... nan nan nan]]\n",
      "\n",
      " [[nan nan nan ... nan nan nan]\n",
      "  [nan nan nan ... nan nan nan]\n",
      "  [nan nan nan ... nan nan nan]\n",
      "  ...\n",
      "  [nan nan nan ... nan nan nan]\n",
      "  [nan nan nan ... nan nan nan]\n",
      "  [nan nan nan ... nan nan nan]]\n",
      "\n",
      " [[nan nan nan ... nan nan nan]\n",
      "  [nan nan nan ... nan nan nan]\n",
      "  [nan nan nan ... nan nan nan]\n",
      "  ...\n",
      "  [nan nan nan ... nan nan nan]\n",
      "  [nan nan nan ... nan nan nan]\n",
      "  [nan nan nan ... nan nan nan]]\n",
      "\n",
      " ...\n",
      "\n",
      " [[nan nan nan ... nan nan nan]\n",
      "  [nan nan nan ... nan nan nan]\n",
      "  [nan nan nan ... nan nan nan]\n",
      "  ...\n",
      "  [nan nan nan ... nan nan nan]\n",
      "  [nan nan nan ... nan nan nan]\n",
      "  [nan nan nan ... nan nan nan]]\n",
      "\n",
      " [[nan nan nan ... nan nan nan]\n",
      "  [nan nan nan ... nan nan nan]\n",
      "  [nan nan nan ... nan nan nan]\n",
      "  ...\n",
      "  [nan nan nan ... nan nan nan]\n",
      "  [nan nan nan ... nan nan nan]\n",
      "  [nan nan nan ... nan nan nan]]\n",
      "\n",
      " [[nan nan nan ... nan nan nan]\n",
      "  [nan nan nan ... nan nan nan]\n",
      "  [nan nan nan ... nan nan nan]\n",
      "  ...\n",
      "  [nan nan nan ... nan nan nan]\n",
      "  [nan nan nan ... nan nan nan]\n",
      "  [nan nan nan ... nan nan nan]]]\n"
     ]
    }
   ],
   "source": [
    "# A\n",
    "masked = np.ma.masked_invalid(precip)\n",
    "\n",
    "#B\n",
    "print(f'Masked precip:\\n{masked}\\nMask:\\n{masked.mask}\\nOriginal:\\n{precip}')"
   ]
  },
  {
   "cell_type": "markdown",
   "id": "municipal-coordination",
   "metadata": {},
   "source": [
    "#### (2)  Now, calculate and plot each of the following (on a 2D, shaded contour plot that includes a map), USING YOUR MASKED DATA FROM 1(a)\n",
    "  - (a.) the average Jan precip at each location \n",
    "<br><br>\n",
    "  - (b.) cumulative precipitation in 2020 at each location - i.e., the TOTAL precipitation that fell during the year 2020 at each location\n",
    "<br><br>\n",
    "  - (c.) the number of days in 2020 when no precipitation was recorded, at each location  \n",
    "\n",
    "***Do not use any for loops!***\n",
    "\n",
    "*Specific plotting requirements. For each plot, you should*:\n",
    " - use object-oriented plotting \n",
    " - create a filled contour plot of the given quantity that you calculate earlier in this Q\n",
    " - on a *map* using Cartopy \n",
    " - with a colorbar, using a colormap of your choice that you explicitly set\n",
    " - and labels for colorbar, plot axes, title, etc."
   ]
  },
  {
   "cell_type": "code",
   "execution_count": null,
   "id": "unsigned-strengthening",
   "metadata": {},
   "outputs": [],
   "source": []
  },
  {
   "cell_type": "code",
   "execution_count": null,
   "id": "assured-klein",
   "metadata": {},
   "outputs": [],
   "source": []
  },
  {
   "cell_type": "code",
   "execution_count": null,
   "id": "personalized-revision",
   "metadata": {},
   "outputs": [],
   "source": []
  },
  {
   "cell_type": "code",
   "execution_count": null,
   "id": "collaborative-placement",
   "metadata": {},
   "outputs": [],
   "source": []
  },
  {
   "cell_type": "code",
   "execution_count": null,
   "id": "varying-oxide",
   "metadata": {},
   "outputs": [],
   "source": []
  },
  {
   "cell_type": "code",
   "execution_count": null,
   "id": "higher-average",
   "metadata": {},
   "outputs": [],
   "source": []
  },
  {
   "cell_type": "code",
   "execution_count": null,
   "id": "protected-resident",
   "metadata": {},
   "outputs": [],
   "source": []
  },
  {
   "cell_type": "code",
   "execution_count": null,
   "id": "foreign-layout",
   "metadata": {},
   "outputs": [],
   "source": []
  },
  {
   "cell_type": "code",
   "execution_count": null,
   "id": "advisory-canadian",
   "metadata": {},
   "outputs": [],
   "source": []
  }
 ],
 "metadata": {
  "kernelspec": {
   "display_name": "Python 3 (ipykernel)",
   "language": "python",
   "name": "python3"
  },
  "language_info": {
   "codemirror_mode": {
    "name": "ipython",
    "version": 3
   },
   "file_extension": ".py",
   "mimetype": "text/x-python",
   "name": "python",
   "nbconvert_exporter": "python",
   "pygments_lexer": "ipython3",
   "version": "3.9.6"
  }
 },
 "nbformat": 4,
 "nbformat_minor": 5
}
