{
 "cells": [
  {
   "cell_type": "markdown",
   "metadata": {},
   "source": [
    "## WEEK 6 ASSIGNMENT\n",
    "\n",
    "### In this assignment, you will explore data collected on earthquakes of magnitude > 4.5 that occurred globally from 1 Sept 2020 through 1 Sept 2021 using some basic tools in Pandas!\n",
    "\n",
    "Want to know more about earthquakes? Check out: https://www.usgs.gov/natural-hazards/earthquake-hazards/science/science-earthquakes?qt-science_center_objects=0#qt-science_center_objects "
   ]
  },
  {
   "cell_type": "code",
   "execution_count": 52,
   "metadata": {},
   "outputs": [],
   "source": [
    "# import needed modules\n",
    "import matplotlib as plt\n",
    "import pandas as pd\n",
    "import numpy as np\n",
    "import chardet\n"
   ]
  },
  {
   "cell_type": "markdown",
   "metadata": {},
   "source": [
    "#### (1)  Download the data yourself: https://earthquake.usgs.gov/earthquakes/search/ ; relevantly, some metadata can be found at: https://earthquake.usgs.gov/data/comcat/ \n",
    "- *Magnitude*: 4.5+\n",
    "- *Date & Time*: Custom, 2020-09-01 00:00:00 to 2021-09-01 00:00:00 \n",
    "- *Geographic Region*: World\n",
    "- *Output Options*: Format, CSV; Order By, Time - Newest First"
   ]
  },
  {
   "cell_type": "markdown",
   "metadata": {},
   "source": [
    "#### (2)  Read in data into a Pandas DataFrame\n",
    "- don't specify an index column, allow Pandas to default to creating its own- the time strings are messy and you haven't learned yet how to deal with them!"
   ]
  },
  {
   "cell_type": "code",
   "execution_count": 63,
   "metadata": {},
   "outputs": [
    {
     "data": {
      "text/html": [
       "<div>\n",
       "<style scoped>\n",
       "    .dataframe tbody tr th:only-of-type {\n",
       "        vertical-align: middle;\n",
       "    }\n",
       "\n",
       "    .dataframe tbody tr th {\n",
       "        vertical-align: top;\n",
       "    }\n",
       "\n",
       "    .dataframe thead th {\n",
       "        text-align: right;\n",
       "    }\n",
       "</style>\n",
       "<table border=\"1\" class=\"dataframe\">\n",
       "  <thead>\n",
       "    <tr style=\"text-align: right;\">\n",
       "      <th></th>\n",
       "      <th>time</th>\n",
       "      <th>latitude</th>\n",
       "      <th>longitude</th>\n",
       "      <th>depth</th>\n",
       "      <th>mag</th>\n",
       "      <th>place</th>\n",
       "    </tr>\n",
       "  </thead>\n",
       "  <tbody>\n",
       "    <tr>\n",
       "      <th>0</th>\n",
       "      <td>2021-08-31T23:20:55.831Z</td>\n",
       "      <td>-2.8257</td>\n",
       "      <td>147.6197</td>\n",
       "      <td>10.00</td>\n",
       "      <td>4.5</td>\n",
       "      <td>95 km SSE of Lorengau, Papua New Guinea</td>\n",
       "    </tr>\n",
       "    <tr>\n",
       "      <th>1</th>\n",
       "      <td>2021-08-31T22:54:50.090Z</td>\n",
       "      <td>29.8780</td>\n",
       "      <td>-42.7378</td>\n",
       "      <td>10.00</td>\n",
       "      <td>4.8</td>\n",
       "      <td>northern Mid-Atlantic Ridge</td>\n",
       "    </tr>\n",
       "    <tr>\n",
       "      <th>2</th>\n",
       "      <td>2021-08-31T22:43:53.059Z</td>\n",
       "      <td>29.8625</td>\n",
       "      <td>-42.7499</td>\n",
       "      <td>10.00</td>\n",
       "      <td>4.5</td>\n",
       "      <td>northern Mid-Atlantic Ridge</td>\n",
       "    </tr>\n",
       "    <tr>\n",
       "      <th>3</th>\n",
       "      <td>2021-08-31T22:40:28.355Z</td>\n",
       "      <td>-61.1848</td>\n",
       "      <td>-39.0948</td>\n",
       "      <td>10.00</td>\n",
       "      <td>5.3</td>\n",
       "      <td>Scotia Sea</td>\n",
       "    </tr>\n",
       "    <tr>\n",
       "      <th>4</th>\n",
       "      <td>2021-08-31T22:28:53.273Z</td>\n",
       "      <td>-29.9042</td>\n",
       "      <td>-177.1601</td>\n",
       "      <td>10.00</td>\n",
       "      <td>4.7</td>\n",
       "      <td>Kermadec Islands, New Zealand</td>\n",
       "    </tr>\n",
       "    <tr>\n",
       "      <th>...</th>\n",
       "      <td>...</td>\n",
       "      <td>...</td>\n",
       "      <td>...</td>\n",
       "      <td>...</td>\n",
       "      <td>...</td>\n",
       "      <td>...</td>\n",
       "    </tr>\n",
       "    <tr>\n",
       "      <th>8480</th>\n",
       "      <td>2020-09-01T04:30:02.173Z</td>\n",
       "      <td>-28.0315</td>\n",
       "      <td>-71.2662</td>\n",
       "      <td>16.18</td>\n",
       "      <td>6.3</td>\n",
       "      <td>78 km NW of Vallenar, Chile</td>\n",
       "    </tr>\n",
       "    <tr>\n",
       "      <th>8481</th>\n",
       "      <td>2020-09-01T04:20:46.447Z</td>\n",
       "      <td>-27.9510</td>\n",
       "      <td>-71.1538</td>\n",
       "      <td>22.86</td>\n",
       "      <td>5.1</td>\n",
       "      <td>79 km NNW of Vallenar, Chile</td>\n",
       "    </tr>\n",
       "    <tr>\n",
       "      <th>8482</th>\n",
       "      <td>2020-09-01T04:09:28.470Z</td>\n",
       "      <td>-27.9686</td>\n",
       "      <td>-71.3062</td>\n",
       "      <td>21.00</td>\n",
       "      <td>6.8</td>\n",
       "      <td>86 km NW of Vallenar, Chile</td>\n",
       "    </tr>\n",
       "    <tr>\n",
       "      <th>8483</th>\n",
       "      <td>2020-09-01T00:59:05.867Z</td>\n",
       "      <td>44.1686</td>\n",
       "      <td>39.0414</td>\n",
       "      <td>10.00</td>\n",
       "      <td>4.5</td>\n",
       "      <td>2 km N of Agoy, Russia</td>\n",
       "    </tr>\n",
       "    <tr>\n",
       "      <th>8484</th>\n",
       "      <td>2020-09-01T00:51:17.028Z</td>\n",
       "      <td>58.7196</td>\n",
       "      <td>158.9837</td>\n",
       "      <td>10.00</td>\n",
       "      <td>5.6</td>\n",
       "      <td>69 km SW of Palana, Russia</td>\n",
       "    </tr>\n",
       "  </tbody>\n",
       "</table>\n",
       "<p>8485 rows × 6 columns</p>\n",
       "</div>"
      ],
      "text/plain": [
       "                          time  latitude  longitude  depth  mag  \\\n",
       "0     2021-08-31T23:20:55.831Z   -2.8257   147.6197  10.00  4.5   \n",
       "1     2021-08-31T22:54:50.090Z   29.8780   -42.7378  10.00  4.8   \n",
       "2     2021-08-31T22:43:53.059Z   29.8625   -42.7499  10.00  4.5   \n",
       "3     2021-08-31T22:40:28.355Z  -61.1848   -39.0948  10.00  5.3   \n",
       "4     2021-08-31T22:28:53.273Z  -29.9042  -177.1601  10.00  4.7   \n",
       "...                        ...       ...        ...    ...  ...   \n",
       "8480  2020-09-01T04:30:02.173Z  -28.0315   -71.2662  16.18  6.3   \n",
       "8481  2020-09-01T04:20:46.447Z  -27.9510   -71.1538  22.86  5.1   \n",
       "8482  2020-09-01T04:09:28.470Z  -27.9686   -71.3062  21.00  6.8   \n",
       "8483  2020-09-01T00:59:05.867Z   44.1686    39.0414  10.00  4.5   \n",
       "8484  2020-09-01T00:51:17.028Z   58.7196   158.9837  10.00  5.6   \n",
       "\n",
       "                                        place  \n",
       "0     95 km SSE of Lorengau, Papua New Guinea  \n",
       "1                 northern Mid-Atlantic Ridge  \n",
       "2                 northern Mid-Atlantic Ridge  \n",
       "3                                  Scotia Sea  \n",
       "4               Kermadec Islands, New Zealand  \n",
       "...                                       ...  \n",
       "8480              78 km NW of Vallenar, Chile  \n",
       "8481             79 km NNW of Vallenar, Chile  \n",
       "8482              86 km NW of Vallenar, Chile  \n",
       "8483                   2 km N of Agoy, Russia  \n",
       "8484               69 km SW of Palana, Russia  \n",
       "\n",
       "[8485 rows x 6 columns]"
      ]
     },
     "execution_count": 63,
     "metadata": {},
     "output_type": "execute_result"
    }
   ],
   "source": [
    "#earthquake_query.csv\n",
    "tdata = pd.read_csv('earthquake_query.csv', engine='python', usecols=['time','latitude','longitude','depth','mag','place'])\n",
    "tdata"
   ]
  },
  {
   "cell_type": "markdown",
   "metadata": {},
   "source": [
    "#### (3)  We are only interested in the following variables (columns), so either only read in these variables, or read in all variables and subsequently drop the other columns, and confirm that you have done successfully \n",
    "   - time\n",
    "   - latitude\n",
    "   - longitude\n",
    "   - depth\n",
    "   - mag (magnitude of earthquake - strength)\n",
    "   - place\n",
    "\n",
    "#### (4) Print the first five and last five rows to get a sense of your data "
   ]
  },
  {
   "cell_type": "code",
   "execution_count": 54,
   "metadata": {},
   "outputs": [
    {
     "name": "stdout",
     "output_type": "stream",
     "text": [
      "                       time  latitude  longitude  depth  mag  \\\n",
      "0  2021-08-31T23:20:55.831Z   -2.8257   147.6197   10.0  4.5   \n",
      "1  2021-08-31T22:54:50.090Z   29.8780   -42.7378   10.0  4.8   \n",
      "2  2021-08-31T22:43:53.059Z   29.8625   -42.7499   10.0  4.5   \n",
      "3  2021-08-31T22:40:28.355Z  -61.1848   -39.0948   10.0  5.3   \n",
      "4  2021-08-31T22:28:53.273Z  -29.9042  -177.1601   10.0  4.7   \n",
      "\n",
      "                                     place  \n",
      "0  95 km SSE of Lorengau, Papua New Guinea  \n",
      "1              northern Mid-Atlantic Ridge  \n",
      "2              northern Mid-Atlantic Ridge  \n",
      "3                               Scotia Sea  \n",
      "4            Kermadec Islands, New Zealand  \n",
      "                          time  latitude  longitude  depth  mag  \\\n",
      "8480  2020-09-01T04:30:02.173Z  -28.0315   -71.2662  16.18  6.3   \n",
      "8481  2020-09-01T04:20:46.447Z  -27.9510   -71.1538  22.86  5.1   \n",
      "8482  2020-09-01T04:09:28.470Z  -27.9686   -71.3062  21.00  6.8   \n",
      "8483  2020-09-01T00:59:05.867Z   44.1686    39.0414  10.00  4.5   \n",
      "8484  2020-09-01T00:51:17.028Z   58.7196   158.9837  10.00  5.6   \n",
      "\n",
      "                             place  \n",
      "8480   78 km NW of Vallenar, Chile  \n",
      "8481  79 km NNW of Vallenar, Chile  \n",
      "8482   86 km NW of Vallenar, Chile  \n",
      "8483        2 km N of Agoy, Russia  \n",
      "8484    69 km SW of Palana, Russia  \n"
     ]
    }
   ],
   "source": [
    "print(tdata.head(5))\n",
    "print(tdata.tail(5))"
   ]
  },
  {
   "cell_type": "markdown",
   "metadata": {},
   "source": [
    "#### (5)  Access just the time and depth columns (for all rows), using a special Pandas indexing function "
   ]
  },
  {
   "cell_type": "code",
   "execution_count": 55,
   "metadata": {},
   "outputs": [
    {
     "name": "stdout",
     "output_type": "stream",
     "text": [
      "The first 5 rows of this new subset are:\n",
      "                       time  depth\n",
      "0  2021-08-31T23:20:55.831Z   10.0\n",
      "1  2021-08-31T22:54:50.090Z   10.0\n",
      "2  2021-08-31T22:43:53.059Z   10.0\n",
      "3  2021-08-31T22:40:28.355Z   10.0\n",
      "4  2021-08-31T22:28:53.273Z   10.0\n"
     ]
    }
   ],
   "source": [
    "subset = tdata[['time', 'depth']]\n",
    "print(f'The first 5 rows of this new subset are:\\n{subset.head()}')"
   ]
  },
  {
   "cell_type": "markdown",
   "metadata": {},
   "source": [
    "#### (6) How many rows of observations are there in your DataFrame?"
   ]
  },
  {
   "cell_type": "code",
   "execution_count": 56,
   "metadata": {},
   "outputs": [
    {
     "name": "stdout",
     "output_type": "stream",
     "text": [
      "There are 8485 rows\n"
     ]
    }
   ],
   "source": [
    "print(f'There are {tdata.shape[0]} rows')"
   ]
  },
  {
   "cell_type": "markdown",
   "metadata": {},
   "source": [
    "#### (7)  What is the time/date of the most recent earthquake? While you could manually use the results from earlier for this, you MUST actually access this observation using Pandas indexing"
   ]
  },
  {
   "cell_type": "code",
   "execution_count": 57,
   "metadata": {},
   "outputs": [
    {
     "name": "stdout",
     "output_type": "stream",
     "text": [
      "The most recent earthquake during the queried period was: 2021-08-31T23:20:55.831Z\n"
     ]
    }
   ],
   "source": [
    "newliest = tdata['time'].max()\n",
    "print(f'The most recent earthquake during the queried period was: {newliest}')"
   ]
  },
  {
   "cell_type": "markdown",
   "metadata": {},
   "source": [
    "#### (8) Are there any NaNs?  If so, properly deal with them."
   ]
  },
  {
   "cell_type": "code",
   "execution_count": 58,
   "metadata": {},
   "outputs": [
    {
     "name": "stdout",
     "output_type": "stream",
     "text": [
      "The NaN situation is as follows:\n",
      "time         0\n",
      "latitude     0\n",
      "longitude    0\n",
      "depth        0\n",
      "mag          0\n",
      "place        9\n",
      "dtype: int64\n"
     ]
    }
   ],
   "source": [
    "print(f'The NaN situation is as follows:\\n{tdata.isnull().sum(axis = 0)}')"
   ]
  },
  {
   "cell_type": "markdown",
   "metadata": {},
   "source": [
    "#### (9) Using a single function, calculate basic statistics for each column (each variable)"
   ]
  },
  {
   "cell_type": "code",
   "execution_count": 59,
   "metadata": {},
   "outputs": [
    {
     "name": "stdout",
     "output_type": "stream",
     "text": [
      "          latitude    longitude        depth          mag\n",
      "count  8485.000000  8485.000000  8485.000000  8485.000000\n",
      "mean     -8.662801    17.137941    53.524473     4.812922\n",
      "std      32.099450   127.366156   102.427487     0.371608\n",
      "min     -65.467600  -179.998500     0.600000     4.500000\n",
      "25%     -29.378700   -82.537800    10.000000     4.600000\n",
      "50%     -12.685400    30.384900    10.000000     4.700000\n",
      "75%      13.193500   137.603800    48.480000     4.900000\n",
      "max      87.375200   179.996200   664.740000     8.200000\n"
     ]
    }
   ],
   "source": [
    "print(tdata.describe())"
   ]
  },
  {
   "cell_type": "markdown",
   "metadata": {},
   "source": [
    "#### (10) What are the magnitudes of the five strongest earthquakes in this dataset?"
   ]
  },
  {
   "cell_type": "code",
   "execution_count": 60,
   "metadata": {},
   "outputs": [
    {
     "data": {
      "text/plain": [
       "1375    8.2\n",
       "4778    8.1\n",
       "1018    8.1\n",
       "5559    7.7\n",
       "7602    7.6\n",
       "Name: mag, dtype: float64"
      ]
     },
     "execution_count": 60,
     "metadata": {},
     "output_type": "execute_result"
    }
   ],
   "source": [
    "tdata.sort_values('mag',ascending=False).head(5)['mag']"
   ]
  },
  {
   "cell_type": "markdown",
   "metadata": {},
   "source": [
    "#### (11)  Create a scatterplot of earthquake depth vs. magnitude.  Discuss if you notice a pattern (relationship) or not.\n",
    " - remember, there is built-in Pandas plotting functionality!\n",
    " - you must include axis labels and title \n",
    " - need units for depth? check out the metadata I linked you to above "
   ]
  },
  {
   "cell_type": "code",
   "execution_count": 67,
   "metadata": {},
   "outputs": [
    {
     "data": {
      "text/plain": [
       "Text(0.5, 0, 'Depth(km)')"
      ]
     },
     "execution_count": 67,
     "metadata": {},
     "output_type": "execute_result"
    },
    {
     "data": {
      "image/png": "[encoded data removed]",
      "text/plain": [
       "<Figure size 432x288 with 2 Axes>"
      ]
     },
     "metadata": {
      "needs_background": "light"
     },
     "output_type": "display_data"
    }
   ],
   "source": [
    "ax = tdata.plot.scatter(x='depth', y='mag', c='mag', title='Magnitude at Depth', colormap='plasma')\n",
    "ax.set_ylabel('Magnitude(M)')\n",
    "ax.set_xlabel('Depth(km)')\n",
    "# I have no idea why the jupyter notebook appears to be cutting off the label?"
   ]
  },
  {
   "cell_type": "markdown",
   "metadata": {},
   "source": [
    "#### (12)  Create a histogram of earthquake depth "
   ]
  },
  {
   "cell_type": "code",
   "execution_count": null,
   "metadata": {},
   "outputs": [],
   "source": []
  },
  {
   "cell_type": "markdown",
   "metadata": {},
   "source": [
    "#### (13)  From your histogram in (12), please estimate the most common depth."
   ]
  },
  {
   "cell_type": "code",
   "execution_count": null,
   "metadata": {},
   "outputs": [],
   "source": []
  }
 ],
 "metadata": {
  "kernelspec": {
   "display_name": "Python 3 (ipykernel)",
   "language": "python",
   "name": "python3"
  },
  "language_info": {
   "codemirror_mode": {
    "name": "ipython",
    "version": 3
   },
   "file_extension": ".py",
   "mimetype": "text/x-python",
   "name": "python",
   "nbconvert_exporter": "python",
   "pygments_lexer": "ipython3",
   "version": "3.9.6"
  }
 },
 "nbformat": 4,
 "nbformat_minor": 4
}
