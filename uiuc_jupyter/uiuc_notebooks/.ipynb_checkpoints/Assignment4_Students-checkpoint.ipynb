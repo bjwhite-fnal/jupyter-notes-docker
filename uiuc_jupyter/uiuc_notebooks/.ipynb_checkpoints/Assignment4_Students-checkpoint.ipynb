{
 "cells": [
  {
   "cell_type": "markdown",
   "metadata": {},
   "source": [
    "# Introduction + data used!\n",
    "- In this assignment, you'll explore precipitation data!\n",
    "<br><br>\n",
    "- What you'll be analyzing is daily precipitation data for the continental US for the year 2020\n",
    "<br><br>\n",
    "- It's important to clarify that this is *liquid* precipitation - so snow is measured by its liquid equivalent \n",
    "<br><br>\n",
    "- Want more information on the data? (You should! #metadataisimportant): \n",
    "https://psl.noaa.gov/data/gridded/data.unified.daily.conus.rt.html"
   ]
  },
  {
   "cell_type": "markdown",
   "metadata": {},
   "source": [
    "#### Import xarray as xr, numpy as np, and pyplot from matplotlib as plt"
   ]
  },
  {
   "cell_type": "code",
   "execution_count": 78,
   "metadata": {},
   "outputs": [],
   "source": [
    "import xarray as xr\n",
    "import numpy as np\n",
    "from matplotlib import pyplot as plt"
   ]
  },
  {
   "cell_type": "markdown",
   "metadata": {},
   "source": [
    "#### Let's access our dataset remotely without downloading it!  *I GIVE YOU THE CODE FOR THIS*\n",
    "\n",
    "- this data is on an OpeNDAP server, which allows us to remotely access it and use it without downloading it\n",
    "- more info on OpeNDAP: https://psl.noaa.gov/data/gridded/using_dods.html\n",
    "- OpeNDAP is used by NOAA, NASA, etc.\n",
    "<br><br>\n",
    "- pass address of data on server into an Xarray open function, just like you would a usual, local-to-you file path (*I'll give you the code since you don't know Xarray yet!*)\n",
    "<br><br>\n",
    "- address of data: 'https://psl.noaa.gov/thredds/dodsC/Datasets/cpc_us_precip/RT/precip.V1.0.2020.nc'\n",
    "   - seems to be a typo on the data webpage of the OpeNDAP link - so we'll use above\n",
    "<br><br>\n",
    "- having issues with this?  Make sure Netcdf4 module has been installed! Still issues?  *Post on Slack!*"
   ]
  },
  {
   "cell_type": "code",
   "execution_count": 79,
   "metadata": {},
   "outputs": [],
   "source": [
    "import xarray as xr\n",
    "# open_dataarray is one of the main functions in Xarray to open a Netcdf file!\n",
    "remote_data = xr.open_dataarray('precip.V1.0.2020.nc')"
   ]
  },
  {
   "cell_type": "markdown",
   "metadata": {},
   "source": [
    "#### Prints out information about the data in this Netcdf file.  *I GIVE YOU THE CODE FOR THIS*\n",
    "- Remember: Netcdf is a binary file format, and we'll work a lot with it in future using the Xarray package, especially for *spatial* data!"
   ]
  },
  {
   "cell_type": "code",
   "execution_count": 80,
   "metadata": {},
   "outputs": [
    {
     "name": "stdout",
     "output_type": "stream",
     "text": [
      "<xarray.DataArray 'precip' (time: 366, lat: 120, lon: 300)>\n",
      "[13176000 values with dtype=float32]\n",
      "Coordinates:\n",
      "  * lat      (lat) float32 20.12 20.38 20.62 20.88 ... 49.12 49.38 49.62 49.88\n",
      "  * lon      (lon) float32 230.1 230.4 230.6 230.9 ... 304.1 304.4 304.6 304.9\n",
      "  * time     (time) datetime64[ns] 2020-01-01 2020-01-02 ... 2020-12-31\n",
      "Attributes:\n",
      "    long_name:     Daily Accumulated Precipitation\n",
      "    valid_range:   [  0. 400.]\n",
      "    units:         mm\n",
      "    precision:     2\n",
      "    var_desc:      Precipitation\n",
      "    dataset:       CPC Unified Gauge-Based Analysis of Daily Precipitation ov...\n",
      "    level_desc:    Surface\n",
      "    statistic:     Daily Accumulation\n",
      "    parent_stat:   Observation\n",
      "    actual_range:  [  0.      274.80292]\n",
      "\n",
      "Coordinates:\n",
      "  * lat      (lat) float32 20.12 20.38 20.62 20.88 ... 49.12 49.38 49.62 49.88\n",
      "  * lon      (lon) float32 230.1 230.4 230.6 230.9 ... 304.1 304.4 304.6 304.9\n",
      "  * time     (time) datetime64[ns] 2020-01-01 2020-01-02 ... 2020-12-31\n"
     ]
    }
   ],
   "source": [
    "# Prints\n",
    "print(remote_data)\n",
    "print()\n",
    "print(remote_data.coords)"
   ]
  },
  {
   "cell_type": "markdown",
   "metadata": {},
   "source": [
    "## *YOUR TURN*:  \n",
    "#### (1) Let's start thinking more about spatial data (much more to follow in next week's lessons!) Based on the metadata printed out above:\n",
    " - (a.)  what are units of this data - precip? \n",
    "<br><br>\n",
    " - (b.)  what are the coordinates of this data?  \n",
    "    - You *MUST* include a description of the direction of the order of each of the spatial coordinates (northward? southward? eastward? westward?)"
   ]
  },
  {
   "cell_type": "markdown",
   "metadata": {},
   "source": [
    "milimeters"
   ]
  },
  {
   "cell_type": "markdown",
   "metadata": {},
   "source": [
    "Starting at an origin in the southwest at 20.12N 230.1E the points head northeast."
   ]
  },
  {
   "cell_type": "markdown",
   "metadata": {},
   "source": [
    "#### Save the coordinate variables of lat, lon, and time each to their own variable (technically, each a data array) *I GIVE YOU THE CODE FOR THIS*"
   ]
  },
  {
   "cell_type": "code",
   "execution_count": 81,
   "metadata": {},
   "outputs": [
    {
     "name": "stdout",
     "output_type": "stream",
     "text": [
      "<xarray.DataArray 'lat' (lat: 120)>\n",
      "array([20.125, 20.375, 20.625, 20.875, 21.125, 21.375, 21.625, 21.875, 22.125,\n",
      "       22.375, 22.625, 22.875, 23.125, 23.375, 23.625, 23.875, 24.125, 24.375,\n",
      "       24.625, 24.875, 25.125, 25.375, 25.625, 25.875, 26.125, 26.375, 26.625,\n",
      "       26.875, 27.125, 27.375, 27.625, 27.875, 28.125, 28.375, 28.625, 28.875,\n",
      "       29.125, 29.375, 29.625, 29.875, 30.125, 30.375, 30.625, 30.875, 31.125,\n",
      "       31.375, 31.625, 31.875, 32.125, 32.375, 32.625, 32.875, 33.125, 33.375,\n",
      "       33.625, 33.875, 34.125, 34.375, 34.625, 34.875, 35.125, 35.375, 35.625,\n",
      "       35.875, 36.125, 36.375, 36.625, 36.875, 37.125, 37.375, 37.625, 37.875,\n",
      "       38.125, 38.375, 38.625, 38.875, 39.125, 39.375, 39.625, 39.875, 40.125,\n",
      "       40.375, 40.625, 40.875, 41.125, 41.375, 41.625, 41.875, 42.125, 42.375,\n",
      "       42.625, 42.875, 43.125, 43.375, 43.625, 43.875, 44.125, 44.375, 44.625,\n",
      "       44.875, 45.125, 45.375, 45.625, 45.875, 46.125, 46.375, 46.625, 46.875,\n",
      "       47.125, 47.375, 47.625, 47.875, 48.125, 48.375, 48.625, 48.875, 49.125,\n",
      "       49.375, 49.625, 49.875], dtype=float32)\n",
      "Coordinates:\n",
      "  * lat      (lat) float32 20.12 20.38 20.62 20.88 ... 49.12 49.38 49.62 49.88\n",
      "Attributes:\n",
      "    units:          degrees_north\n",
      "    long_name:      Latitude\n",
      "    actual_range:   [20.125 49.875]\n",
      "    standard_name:  latitude\n",
      "    axis:           Y\n",
      "<xarray.DataArray 'lon' (lon: 300)>\n",
      "array([230.125, 230.375, 230.625, ..., 304.375, 304.625, 304.875],\n",
      "      dtype=float32)\n",
      "Coordinates:\n",
      "  * lon      (lon) float32 230.1 230.4 230.6 230.9 ... 304.1 304.4 304.6 304.9\n",
      "Attributes:\n",
      "    units:          degrees_east\n",
      "    long_name:      Longitude\n",
      "    actual_range:   [230.125 304.875]\n",
      "    standard_name:  longitude\n",
      "    axis:           X\n"
     ]
    }
   ],
   "source": [
    "lat2 = remote_data['lat'] # these are *coordinate* variables in the Netcdf file\n",
    "print(lat2)\n",
    "lon2 = remote_data['lon']\n",
    "print(lon2)\n",
    "times2 = remote_data['time']"
   ]
  },
  {
   "cell_type": "markdown",
   "metadata": {},
   "source": [
    "#### Convert each of the three data arrays into a NumPy array  *I GIVE YOU THE CODE FOR THIS*\n",
    "- Since you haven't learned Xarray yet, let's get data into a format you know how to work with!"
   ]
  },
  {
   "cell_type": "code",
   "execution_count": 82,
   "metadata": {},
   "outputs": [],
   "source": [
    "precip = remote_data.values # nifty function that converts the Xarray data structure into a NumPy array\n",
    "lat = lat2.values \n",
    "lon = lon2.values"
   ]
  },
  {
   "cell_type": "markdown",
   "metadata": {},
   "source": [
    "## *YOUR TURN, AGAIN, FROM HERE TO END OF ASSIGNMENT*\n",
    "#### (2)  Evaluating dimensions!\n",
    " - (a.) Evaluate and print the shape of each of these three NumPy arrays: lat, lon, and precip\n",
    "<br><br>\n",
    " - (b.) What are the dimensions of precip, physically, based on your answer to (a.), and your work in Q1?  <br><br>\n",
    " - (c.) And what *order* are the dimensions in?"
   ]
  },
  {
   "cell_type": "code",
   "execution_count": 83,
   "metadata": {},
   "outputs": [
    {
     "name": "stdout",
     "output_type": "stream",
     "text": [
      "Shapes\n",
      "\tLat: (120,)\n",
      "\tLon: (300,)\n",
      "\tPrecip: (366, 120, 300)\n",
      "\n"
     ]
    }
   ],
   "source": [
    "print(f'Shapes\\n\\tLat: {np.shape(lat)}\\n\\tLon: {np.shape(lon)}\\n\\tPrecip: {np.shape(precip)}\\n')"
   ]
  },
  {
   "cell_type": "markdown",
   "metadata": {},
   "source": [
    "B.\n",
    "Time, latitude, longitude"
   ]
  },
  {
   "cell_type": "markdown",
   "metadata": {},
   "source": [
    "C.\n",
    "Time, latitude, longitude"
   ]
  },
  {
   "cell_type": "markdown",
   "metadata": {},
   "source": [
    "#### (3)  Array operations - unit conversion\n",
    "- (a.) Convert from mm of daily precip to inches using an array operation (i.e., not a loop, of course!)\n",
    "<br><br>\n",
    "- (b.) Comment on if what you just did would be faster or slower than doing this instead using a *for loop*. *Why* would this be the case, conceptually?"
   ]
  },
  {
   "cell_type": "code",
   "execution_count": 84,
   "metadata": {},
   "outputs": [],
   "source": [
    "precip_in = np.copy(precip)\n",
    "precip_in = precip_in*0.0393701"
   ]
  },
  {
   "cell_type": "markdown",
   "metadata": {},
   "source": [
    "Doing this in a for loop would be terribly slow, as the loop would then be executed via interpreted Python, rather than via the C bindings. The advantage of the numpy C bindings is that it allows for efficent and optimized usage of vectorized (SIMD) CPU operations. SIMD instructions allow for a single instruction to operate upon multiple operands in modern 64bit (or larger) CPU registers at once. Some modern CPUs in current supercomputers such as the Knights Landing architecture (AVX-512) even include 512bit registers, to really make these big machines crunch arrays quickly."
   ]
  },
  {
   "cell_type": "markdown",
   "metadata": {},
   "source": [
    "#### (4)  Exploring daily precipitation data at the gridpoint nearest UIUC campus\n",
    "- (a.) Determine, save to new variable(s), and print the indices of the nearest gridpoint to the UIUC campus. *You may need to use a NumPy function I haven't formally taught you to determine the indices of the gridpoint nearest UIUC campus - do some exploration! #healthy*\n",
    "<br><br>\n",
    "- (b.) Print the corresponding lat/lon of that gridpoint. \n",
    "<br><br>\n",
    "- (c.) Evaluate and print the shape of your precip array when now only looking at precipitation data at this special location.  This will help you understand what exactly you're plotting in (d.) and (e.)\n",
    "<br><br>\n",
    "- (d.) Create a line plot of precipitation data at this special location.\n",
    "   - Don't forget axis labels! And a title!\n",
    "<br><br>\n",
    "- (e.) Create a histogram of your precipitation data at this special location.  Please explicitly set the number of bins you think will be most appropriate to display the data in a way that is easy to interpret."
   ]
  },
  {
   "cell_type": "code",
   "execution_count": 85,
   "metadata": {},
   "outputs": [],
   "source": [
    "# how the hell?"
   ]
  },
  {
   "cell_type": "code",
   "execution_count": 86,
   "metadata": {},
   "outputs": [
    {
     "name": "stdout",
     "output_type": "stream",
     "text": [
      "Location:\n",
      "\tLat: 45.125\n",
      "\tLon: 255.125\n"
     ]
    }
   ],
   "source": [
    "# B\n",
    "mod = 100\n",
    "uiuc_lat = lat[mod]\n",
    "uiuc_lon = lon[mod]\n",
    "uiuc_lat_idx = mod\n",
    "uiuc_lon_idx = mod\n",
    "array_location = (uiuc_lat_idx, uiuc_lon_idx)\n",
    "print(f'Location:\\n\\tLat: {uiuc_lat}\\n\\tLon: {uiuc_lon}')"
   ]
  },
  {
   "cell_type": "code",
   "execution_count": 87,
   "metadata": {},
   "outputs": [
    {
     "name": "stdout",
     "output_type": "stream",
     "text": [
      "(300,)\n"
     ]
    }
   ],
   "source": [
    "# C\n",
    "print(np.shape(precip[array_location]))\n"
   ]
  },
  {
   "cell_type": "code",
   "execution_count": 95,
   "metadata": {},
   "outputs": [
    {
     "data": {
      "text/plain": [
       "[<matplotlib.lines.Line2D at 0x7f934c12e400>]"
      ]
     },
     "execution_count": 95,
     "metadata": {},
     "output_type": "execute_result"
    },
    {
     "data": {
      "image/png": "[encoded data removed]",
      "text/plain": [
       "<Figure size 432x288 with 1 Axes>"
      ]
     },
     "metadata": {
      "needs_background": "light"
     },
     "output_type": "display_data"
    }
   ],
   "source": [
    "# D\n",
    "plt.xlabel('Time (days)')\n",
    "plt.ylabel('Precipitation (mm)')\n",
    "plt.title('Annual Chambana Daily Precipitaion')\n",
    "plt.plot(np.arange(300), precip[array_location])"
   ]
  },
  {
   "cell_type": "code",
   "execution_count": 89,
   "metadata": {},
   "outputs": [
    {
     "data": {
      "text/plain": [
       "(array([166.,   0.,   0.,   0.,   0.,   0.,   3.,   3.,   2.,   4.,   4.,\n",
       "          2.]),\n",
       " array([ 0.       ,  2.7497272,  5.4994545,  8.249182 , 10.998909 ,\n",
       "        13.748636 , 16.498363 , 19.24809  , 21.997818 , 24.747545 ,\n",
       "        27.497272 , 30.247    , 32.996727 ], dtype=float32),\n",
       " <BarContainer object of 12 artists>)"
      ]
     },
     "execution_count": 89,
     "metadata": {},
     "output_type": "execute_result"
    },
    {
     "data": {
      "image/png": "[encoded data removed]",
      "text/plain": [
       "<Figure size 432x288 with 1 Axes>"
      ]
     },
     "metadata": {
      "needs_background": "light"
     },
     "output_type": "display_data"
    }
   ],
   "source": [
    "# E\n",
    "plt.xlabel('Precipitation (mm)')\n",
    "plt.ylabel('Number of Days with Bin Precipitation')\n",
    "plt.title('Chambana Precipitation Binned by Count of Days')\n",
    "plt.hist(precip[array_location] , bins=12)"
   ]
  },
  {
   "cell_type": "markdown",
   "metadata": {},
   "source": [
    "#### (5)  Calculate the following statistics for precip at this special location!\n",
    "  - (a.) How many days did no precip fall?\n",
    "<br><br>\n",
    "  - (b.) How many days did more than one inch fall?\n",
    "<br><br>\n",
    "  - (c.) What was the maximum amount of precip that fell?\n",
    "<br><br>\n",
    "  - (d.) What day did it occur on?"
   ]
  },
  {
   "cell_type": "code",
   "execution_count": 90,
   "metadata": {},
   "outputs": [
    {
     "name": "stdout",
     "output_type": "stream",
     "text": [
      "There was no precipitation on 124 days.\n"
     ]
    }
   ],
   "source": [
    "# A\n",
    "daily_values = precip_in[array_location] # Switching units from mm->in abruptly here.\n",
    "daily_values_no_nan = daily_values[np.logical_not(np.isnan(daily_values))] # Filter nan\n",
    "count_no_precip_days = daily_values[np.where(daily_values_no_nan==0)].size\n",
    "print(f'There was no precipitation on {count_no_precip_days} days.')"
   ]
  },
  {
   "cell_type": "code",
   "execution_count": 91,
   "metadata": {},
   "outputs": [
    {
     "name": "stdout",
     "output_type": "stream",
     "text": [
      "There was over one inch of  precipitation on 9 days.\n"
     ]
    }
   ],
   "source": [
    "# B\n",
    "count_over_1in_precip_days = daily_values[np.where(daily_values_no_nan>1)].size\n",
    "print(f'There was over one inch of  precipitation on {count_over_1in_precip_days} days.')"
   ]
  },
  {
   "cell_type": "code",
   "execution_count": 92,
   "metadata": {},
   "outputs": [
    {
     "name": "stdout",
     "output_type": "stream",
     "text": [
      "There was over one inch of  precipitation on 1.2990844249725342 days.\n"
     ]
    }
   ],
   "source": [
    "print(f'There was over one inch of  precipitation on {np.max(daily_values_no_nan)} days.')"
   ]
  },
  {
   "cell_type": "code",
   "execution_count": null,
   "metadata": {},
   "outputs": [],
   "source": []
  }
 ],
 "metadata": {
  "kernelspec": {
   "display_name": "Python 3 (ipykernel)",
   "language": "python",
   "name": "python3"
  },
  "language_info": {
   "codemirror_mode": {
    "name": "ipython",
    "version": 3
   },
   "file_extension": ".py",
   "mimetype": "text/x-python",
   "name": "python",
   "nbconvert_exporter": "python",
   "pygments_lexer": "ipython3",
   "version": "3.9.6"
  }
 },
 "nbformat": 4,
 "nbformat_minor": 4
}
