{
 "cells": [
  {
   "cell_type": "markdown",
   "metadata": {},
   "source": [
    "# Introduction + data used!\n",
    "- In this assignment, you'll explore precipitation data!\n",
    "<br><br>\n",
    "- What you'll be analyzing is daily precipitation data for the continental US for the year 2020\n",
    "<br><br>\n",
    "- It's important to clarify that this is *liquid* precipitation - so snow is measured by its liquid equivalent \n",
    "<br><br>\n",
    "- Want more information on the data? (You should! #metadataisimportant): \n",
    "https://psl.noaa.gov/data/gridded/data.unified.daily.conus.rt.html"
   ]
  },
  {
   "cell_type": "markdown",
   "metadata": {},
   "source": [
    "#### Import xarray as xr, numpy as np, and pyplot from matplotlib as plt"
   ]
  },
  {
   "cell_type": "code",
   "execution_count": 141,
   "metadata": {},
   "outputs": [],
   "source": [
    "import xarray as xr\n",
    "import numpy as np\n",
    "from matplotlib import pyplot as plt"
   ]
  },
  {
   "cell_type": "markdown",
   "metadata": {},
   "source": [
    "#### Let's access our dataset remotely without downloading it!  *I GIVE YOU THE CODE FOR THIS*\n",
    "\n",
    "- this data is on an OpeNDAP server, which allows us to remotely access it and use it without downloading it\n",
    "- more info on OpeNDAP: https://psl.noaa.gov/data/gridded/using_dods.html\n",
    "- OpeNDAP is used by NOAA, NASA, etc.\n",
    "<br><br>\n",
    "- pass address of data on server into an Xarray open function, just like you would a usual, local-to-you file path (*I'll give you the code since you don't know Xarray yet!*)\n",
    "<br><br>\n",
    "- address of data: 'https://psl.noaa.gov/thredds/dodsC/Datasets/cpc_us_precip/RT/precip.V1.0.2020.nc'\n",
    "   - seems to be a typo on the data webpage of the OpeNDAP link - so we'll use above\n",
    "<br><br>\n",
    "- having issues with this?  Make sure Netcdf4 module has been installed! Still issues?  *Post on Slack!*"
   ]
  },
  {
   "cell_type": "code",
   "execution_count": 142,
   "metadata": {},
   "outputs": [],
   "source": [
    "import xarray as xr\n",
    "# open_dataarray is one of the main functions in Xarray to open a Netcdf file!\n",
    "remote_data = xr.open_dataarray('precip.V1.0.2020.nc')"
   ]
  },
  {
   "cell_type": "markdown",
   "metadata": {},
   "source": [
    "#### Prints out information about the data in this Netcdf file.  *I GIVE YOU THE CODE FOR THIS*\n",
    "- Remember: Netcdf is a binary file format, and we'll work a lot with it in future using the Xarray package, especially for *spatial* data!"
   ]
  },
  {
   "cell_type": "code",
   "execution_count": 143,
   "metadata": {},
   "outputs": [
    {
     "name": "stdout",
     "output_type": "stream",
     "text": [
      "<xarray.DataArray 'precip' (time: 366, lat: 120, lon: 300)>\n",
      "[13176000 values with dtype=float32]\n",
      "Coordinates:\n",
      "  * lat      (lat) float32 20.12 20.38 20.62 20.88 ... 49.12 49.38 49.62 49.88\n",
      "  * lon      (lon) float32 230.1 230.4 230.6 230.9 ... 304.1 304.4 304.6 304.9\n",
      "  * time     (time) datetime64[ns] 2020-01-01 2020-01-02 ... 2020-12-31\n",
      "Attributes:\n",
      "    long_name:     Daily Accumulated Precipitation\n",
      "    valid_range:   [  0. 400.]\n",
      "    units:         mm\n",
      "    precision:     2\n",
      "    var_desc:      Precipitation\n",
      "    dataset:       CPC Unified Gauge-Based Analysis of Daily Precipitation ov...\n",
      "    level_desc:    Surface\n",
      "    statistic:     Daily Accumulation\n",
      "    parent_stat:   Observation\n",
      "    actual_range:  [  0.      274.80292]\n",
      "\n",
      "Coordinates:\n",
      "  * lat      (lat) float32 20.12 20.38 20.62 20.88 ... 49.12 49.38 49.62 49.88\n",
      "  * lon      (lon) float32 230.1 230.4 230.6 230.9 ... 304.1 304.4 304.6 304.9\n",
      "  * time     (time) datetime64[ns] 2020-01-01 2020-01-02 ... 2020-12-31\n"
     ]
    }
   ],
   "source": [
    "# Prints\n",
    "print(remote_data)\n",
    "print()\n",
    "print(remote_data.coords)"
   ]
  },
  {
   "cell_type": "markdown",
   "metadata": {},
   "source": [
    "## *YOUR TURN*:  \n",
    "#### (1) Let's start thinking more about spatial data (much more to follow in next week's lessons!) Based on the metadata printed out above:\n",
    " - (a.)  what are units of this data - precip? \n",
    "<br><br>\n",
    " - (b.)  what are the coordinates of this data?  \n",
    "    - You *MUST* include a description of the direction of the order of each of the spatial coordinates (northward? southward? eastward? westward?)"
   ]
  },
  {
   "cell_type": "markdown",
   "metadata": {},
   "source": [
    "milimeters"
   ]
  },
  {
   "cell_type": "markdown",
   "metadata": {},
   "source": [
    "Starting at an origin in the southwest at 20.12N 230.1E the points head northeast."
   ]
  },
  {
   "cell_type": "markdown",
   "metadata": {},
   "source": [
    "#### Save the coordinate variables of lat, lon, and time each to their own variable (technically, each a data array) *I GIVE YOU THE CODE FOR THIS*"
   ]
  },
  {
   "cell_type": "code",
   "execution_count": 182,
   "metadata": {},
   "outputs": [
    {
     "name": "stdout",
     "output_type": "stream",
     "text": [
      "<xarray.DataArray 'time' (time: 366)>\n",
      "array(['2020-01-01T00:00:00.000000000', '2020-01-02T00:00:00.000000000',\n",
      "       '2020-01-03T00:00:00.000000000', ..., '2020-12-29T00:00:00.000000000',\n",
      "       '2020-12-30T00:00:00.000000000', '2020-12-31T00:00:00.000000000'],\n",
      "      dtype='datetime64[ns]')\n",
      "Coordinates:\n",
      "  * time     (time) datetime64[ns] 2020-01-01 2020-01-02 ... 2020-12-31\n",
      "Attributes:\n",
      "    long_name:      Time\n",
      "    delta_t:        0000-00-01 00:00:00\n",
      "    avg_period:     0000-00-01 00:00:00\n",
      "    standard_name:  time\n",
      "    axis:           T\n",
      "    actual_range:   [1928472. 1937232.]\n"
     ]
    }
   ],
   "source": [
    "lat2 = remote_data['lat'] # these are *coordinate* variables in the Netcdf file\n",
    "lon2 = remote_data['lon']\n",
    "times2 = remote_data['time']"
   ]
  },
  {
   "cell_type": "markdown",
   "metadata": {},
   "source": [
    "#### Convert each of the three data arrays into a NumPy array  *I GIVE YOU THE CODE FOR THIS*\n",
    "- Since you haven't learned Xarray yet, let's get data into a format you know how to work with!"
   ]
  },
  {
   "cell_type": "code",
   "execution_count": 185,
   "metadata": {},
   "outputs": [
    {
     "name": "stdout",
     "output_type": "stream",
     "text": [
      "(366,)\n",
      "['2020-01-01T00:00:00.000000000' '2020-01-02T00:00:00.000000000'\n",
      " '2020-01-03T00:00:00.000000000' '2020-01-04T00:00:00.000000000'\n",
      " '2020-01-05T00:00:00.000000000' '2020-01-06T00:00:00.000000000'\n",
      " '2020-01-07T00:00:00.000000000' '2020-01-08T00:00:00.000000000'\n",
      " '2020-01-09T00:00:00.000000000' '2020-01-10T00:00:00.000000000'\n",
      " '2020-01-11T00:00:00.000000000' '2020-01-12T00:00:00.000000000'\n",
      " '2020-01-13T00:00:00.000000000' '2020-01-14T00:00:00.000000000'\n",
      " '2020-01-15T00:00:00.000000000' '2020-01-16T00:00:00.000000000'\n",
      " '2020-01-17T00:00:00.000000000' '2020-01-18T00:00:00.000000000'\n",
      " '2020-01-19T00:00:00.000000000' '2020-01-20T00:00:00.000000000'\n",
      " '2020-01-21T00:00:00.000000000' '2020-01-22T00:00:00.000000000'\n",
      " '2020-01-23T00:00:00.000000000' '2020-01-24T00:00:00.000000000'\n",
      " '2020-01-25T00:00:00.000000000' '2020-01-26T00:00:00.000000000'\n",
      " '2020-01-27T00:00:00.000000000' '2020-01-28T00:00:00.000000000'\n",
      " '2020-01-29T00:00:00.000000000' '2020-01-30T00:00:00.000000000'\n",
      " '2020-01-31T00:00:00.000000000' '2020-02-01T00:00:00.000000000'\n",
      " '2020-02-02T00:00:00.000000000' '2020-02-03T00:00:00.000000000'\n",
      " '2020-02-04T00:00:00.000000000' '2020-02-05T00:00:00.000000000'\n",
      " '2020-02-06T00:00:00.000000000' '2020-02-07T00:00:00.000000000'\n",
      " '2020-02-08T00:00:00.000000000' '2020-02-09T00:00:00.000000000'\n",
      " '2020-02-10T00:00:00.000000000' '2020-02-11T00:00:00.000000000'\n",
      " '2020-02-12T00:00:00.000000000' '2020-02-13T00:00:00.000000000'\n",
      " '2020-02-14T00:00:00.000000000' '2020-02-15T00:00:00.000000000'\n",
      " '2020-02-16T00:00:00.000000000' '2020-02-17T00:00:00.000000000'\n",
      " '2020-02-18T00:00:00.000000000' '2020-02-19T00:00:00.000000000'\n",
      " '2020-02-20T00:00:00.000000000' '2020-02-21T00:00:00.000000000'\n",
      " '2020-02-22T00:00:00.000000000' '2020-02-23T00:00:00.000000000'\n",
      " '2020-02-24T00:00:00.000000000' '2020-02-25T00:00:00.000000000'\n",
      " '2020-02-26T00:00:00.000000000' '2020-02-27T00:00:00.000000000'\n",
      " '2020-02-28T00:00:00.000000000' '2020-02-29T00:00:00.000000000'\n",
      " '2020-03-01T00:00:00.000000000' '2020-03-02T00:00:00.000000000'\n",
      " '2020-03-03T00:00:00.000000000' '2020-03-04T00:00:00.000000000'\n",
      " '2020-03-05T00:00:00.000000000' '2020-03-06T00:00:00.000000000'\n",
      " '2020-03-07T00:00:00.000000000' '2020-03-08T00:00:00.000000000'\n",
      " '2020-03-09T00:00:00.000000000' '2020-03-10T00:00:00.000000000'\n",
      " '2020-03-11T00:00:00.000000000' '2020-03-12T00:00:00.000000000'\n",
      " '2020-03-13T00:00:00.000000000' '2020-03-14T00:00:00.000000000'\n",
      " '2020-03-15T00:00:00.000000000' '2020-03-16T00:00:00.000000000'\n",
      " '2020-03-17T00:00:00.000000000' '2020-03-18T00:00:00.000000000'\n",
      " '2020-03-19T00:00:00.000000000' '2020-03-20T00:00:00.000000000'\n",
      " '2020-03-21T00:00:00.000000000' '2020-03-22T00:00:00.000000000'\n",
      " '2020-03-23T00:00:00.000000000' '2020-03-24T00:00:00.000000000'\n",
      " '2020-03-25T00:00:00.000000000' '2020-03-26T00:00:00.000000000'\n",
      " '2020-03-27T00:00:00.000000000' '2020-03-28T00:00:00.000000000'\n",
      " '2020-03-29T00:00:00.000000000' '2020-03-30T00:00:00.000000000'\n",
      " '2020-03-31T00:00:00.000000000' '2020-04-01T00:00:00.000000000'\n",
      " '2020-04-02T00:00:00.000000000' '2020-04-03T00:00:00.000000000'\n",
      " '2020-04-04T00:00:00.000000000' '2020-04-05T00:00:00.000000000'\n",
      " '2020-04-06T00:00:00.000000000' '2020-04-07T00:00:00.000000000'\n",
      " '2020-04-08T00:00:00.000000000' '2020-04-09T00:00:00.000000000'\n",
      " '2020-04-10T00:00:00.000000000' '2020-04-11T00:00:00.000000000'\n",
      " '2020-04-12T00:00:00.000000000' '2020-04-13T00:00:00.000000000'\n",
      " '2020-04-14T00:00:00.000000000' '2020-04-15T00:00:00.000000000'\n",
      " '2020-04-16T00:00:00.000000000' '2020-04-17T00:00:00.000000000'\n",
      " '2020-04-18T00:00:00.000000000' '2020-04-19T00:00:00.000000000'\n",
      " '2020-04-20T00:00:00.000000000' '2020-04-21T00:00:00.000000000'\n",
      " '2020-04-22T00:00:00.000000000' '2020-04-23T00:00:00.000000000'\n",
      " '2020-04-24T00:00:00.000000000' '2020-04-25T00:00:00.000000000'\n",
      " '2020-04-26T00:00:00.000000000' '2020-04-27T00:00:00.000000000'\n",
      " '2020-04-28T00:00:00.000000000' '2020-04-29T00:00:00.000000000'\n",
      " '2020-04-30T00:00:00.000000000' '2020-05-01T00:00:00.000000000'\n",
      " '2020-05-02T00:00:00.000000000' '2020-05-03T00:00:00.000000000'\n",
      " '2020-05-04T00:00:00.000000000' '2020-05-05T00:00:00.000000000'\n",
      " '2020-05-06T00:00:00.000000000' '2020-05-07T00:00:00.000000000'\n",
      " '2020-05-08T00:00:00.000000000' '2020-05-09T00:00:00.000000000'\n",
      " '2020-05-10T00:00:00.000000000' '2020-05-11T00:00:00.000000000'\n",
      " '2020-05-12T00:00:00.000000000' '2020-05-13T00:00:00.000000000'\n",
      " '2020-05-14T00:00:00.000000000' '2020-05-15T00:00:00.000000000'\n",
      " '2020-05-16T00:00:00.000000000' '2020-05-17T00:00:00.000000000'\n",
      " '2020-05-18T00:00:00.000000000' '2020-05-19T00:00:00.000000000'\n",
      " '2020-05-20T00:00:00.000000000' '2020-05-21T00:00:00.000000000'\n",
      " '2020-05-22T00:00:00.000000000' '2020-05-23T00:00:00.000000000'\n",
      " '2020-05-24T00:00:00.000000000' '2020-05-25T00:00:00.000000000'\n",
      " '2020-05-26T00:00:00.000000000' '2020-05-27T00:00:00.000000000'\n",
      " '2020-05-28T00:00:00.000000000' '2020-05-29T00:00:00.000000000'\n",
      " '2020-05-30T00:00:00.000000000' '2020-05-31T00:00:00.000000000'\n",
      " '2020-06-01T00:00:00.000000000' '2020-06-02T00:00:00.000000000'\n",
      " '2020-06-03T00:00:00.000000000' '2020-06-04T00:00:00.000000000'\n",
      " '2020-06-05T00:00:00.000000000' '2020-06-06T00:00:00.000000000'\n",
      " '2020-06-07T00:00:00.000000000' '2020-06-08T00:00:00.000000000'\n",
      " '2020-06-09T00:00:00.000000000' '2020-06-10T00:00:00.000000000'\n",
      " '2020-06-11T00:00:00.000000000' '2020-06-12T00:00:00.000000000'\n",
      " '2020-06-13T00:00:00.000000000' '2020-06-14T00:00:00.000000000'\n",
      " '2020-06-15T00:00:00.000000000' '2020-06-16T00:00:00.000000000'\n",
      " '2020-06-17T00:00:00.000000000' '2020-06-18T00:00:00.000000000'\n",
      " '2020-06-19T00:00:00.000000000' '2020-06-20T00:00:00.000000000'\n",
      " '2020-06-21T00:00:00.000000000' '2020-06-22T00:00:00.000000000'\n",
      " '2020-06-23T00:00:00.000000000' '2020-06-24T00:00:00.000000000'\n",
      " '2020-06-25T00:00:00.000000000' '2020-06-26T00:00:00.000000000'\n",
      " '2020-06-27T00:00:00.000000000' '2020-06-28T00:00:00.000000000'\n",
      " '2020-06-29T00:00:00.000000000' '2020-06-30T00:00:00.000000000'\n",
      " '2020-07-01T00:00:00.000000000' '2020-07-02T00:00:00.000000000'\n",
      " '2020-07-03T00:00:00.000000000' '2020-07-04T00:00:00.000000000'\n",
      " '2020-07-05T00:00:00.000000000' '2020-07-06T00:00:00.000000000'\n",
      " '2020-07-07T00:00:00.000000000' '2020-07-08T00:00:00.000000000'\n",
      " '2020-07-09T00:00:00.000000000' '2020-07-10T00:00:00.000000000'\n",
      " '2020-07-11T00:00:00.000000000' '2020-07-12T00:00:00.000000000'\n",
      " '2020-07-13T00:00:00.000000000' '2020-07-14T00:00:00.000000000'\n",
      " '2020-07-15T00:00:00.000000000' '2020-07-16T00:00:00.000000000'\n",
      " '2020-07-17T00:00:00.000000000' '2020-07-18T00:00:00.000000000'\n",
      " '2020-07-19T00:00:00.000000000' '2020-07-20T00:00:00.000000000'\n",
      " '2020-07-21T00:00:00.000000000' '2020-07-22T00:00:00.000000000'\n",
      " '2020-07-23T00:00:00.000000000' '2020-07-24T00:00:00.000000000'\n",
      " '2020-07-25T00:00:00.000000000' '2020-07-26T00:00:00.000000000'\n",
      " '2020-07-27T00:00:00.000000000' '2020-07-28T00:00:00.000000000'\n",
      " '2020-07-29T00:00:00.000000000' '2020-07-30T00:00:00.000000000'\n",
      " '2020-07-31T00:00:00.000000000' '2020-08-01T00:00:00.000000000'\n",
      " '2020-08-02T00:00:00.000000000' '2020-08-03T00:00:00.000000000'\n",
      " '2020-08-04T00:00:00.000000000' '2020-08-05T00:00:00.000000000'\n",
      " '2020-08-06T00:00:00.000000000' '2020-08-07T00:00:00.000000000'\n",
      " '2020-08-08T00:00:00.000000000' '2020-08-09T00:00:00.000000000'\n",
      " '2020-08-10T00:00:00.000000000' '2020-08-11T00:00:00.000000000'\n",
      " '2020-08-12T00:00:00.000000000' '2020-08-13T00:00:00.000000000'\n",
      " '2020-08-14T00:00:00.000000000' '2020-08-15T00:00:00.000000000'\n",
      " '2020-08-16T00:00:00.000000000' '2020-08-17T00:00:00.000000000'\n",
      " '2020-08-18T00:00:00.000000000' '2020-08-19T00:00:00.000000000'\n",
      " '2020-08-20T00:00:00.000000000' '2020-08-21T00:00:00.000000000'\n",
      " '2020-08-22T00:00:00.000000000' '2020-08-23T00:00:00.000000000'\n",
      " '2020-08-24T00:00:00.000000000' '2020-08-25T00:00:00.000000000'\n",
      " '2020-08-26T00:00:00.000000000' '2020-08-27T00:00:00.000000000'\n",
      " '2020-08-28T00:00:00.000000000' '2020-08-29T00:00:00.000000000'\n",
      " '2020-08-30T00:00:00.000000000' '2020-08-31T00:00:00.000000000'\n",
      " '2020-09-01T00:00:00.000000000' '2020-09-02T00:00:00.000000000'\n",
      " '2020-09-03T00:00:00.000000000' '2020-09-04T00:00:00.000000000'\n",
      " '2020-09-05T00:00:00.000000000' '2020-09-06T00:00:00.000000000'\n",
      " '2020-09-07T00:00:00.000000000' '2020-09-08T00:00:00.000000000'\n",
      " '2020-09-09T00:00:00.000000000' '2020-09-10T00:00:00.000000000'\n",
      " '2020-09-11T00:00:00.000000000' '2020-09-12T00:00:00.000000000'\n",
      " '2020-09-13T00:00:00.000000000' '2020-09-14T00:00:00.000000000'\n",
      " '2020-09-15T00:00:00.000000000' '2020-09-16T00:00:00.000000000'\n",
      " '2020-09-17T00:00:00.000000000' '2020-09-18T00:00:00.000000000'\n",
      " '2020-09-19T00:00:00.000000000' '2020-09-20T00:00:00.000000000'\n",
      " '2020-09-21T00:00:00.000000000' '2020-09-22T00:00:00.000000000'\n",
      " '2020-09-23T00:00:00.000000000' '2020-09-24T00:00:00.000000000'\n",
      " '2020-09-25T00:00:00.000000000' '2020-09-26T00:00:00.000000000'\n",
      " '2020-09-27T00:00:00.000000000' '2020-09-28T00:00:00.000000000'\n",
      " '2020-09-29T00:00:00.000000000' '2020-09-30T00:00:00.000000000'\n",
      " '2020-10-01T00:00:00.000000000' '2020-10-02T00:00:00.000000000'\n",
      " '2020-10-03T00:00:00.000000000' '2020-10-04T00:00:00.000000000'\n",
      " '2020-10-05T00:00:00.000000000' '2020-10-06T00:00:00.000000000'\n",
      " '2020-10-07T00:00:00.000000000' '2020-10-08T00:00:00.000000000'\n",
      " '2020-10-09T00:00:00.000000000' '2020-10-10T00:00:00.000000000'\n",
      " '2020-10-11T00:00:00.000000000' '2020-10-12T00:00:00.000000000'\n",
      " '2020-10-13T00:00:00.000000000' '2020-10-14T00:00:00.000000000'\n",
      " '2020-10-15T00:00:00.000000000' '2020-10-16T00:00:00.000000000'\n",
      " '2020-10-17T00:00:00.000000000' '2020-10-18T00:00:00.000000000'\n",
      " '2020-10-19T00:00:00.000000000' '2020-10-20T00:00:00.000000000'\n",
      " '2020-10-21T00:00:00.000000000' '2020-10-22T00:00:00.000000000'\n",
      " '2020-10-23T00:00:00.000000000' '2020-10-24T00:00:00.000000000'\n",
      " '2020-10-25T00:00:00.000000000' '2020-10-26T00:00:00.000000000'\n",
      " '2020-10-27T00:00:00.000000000' '2020-10-28T00:00:00.000000000'\n",
      " '2020-10-29T00:00:00.000000000' '2020-10-30T00:00:00.000000000'\n",
      " '2020-10-31T00:00:00.000000000' '2020-11-01T00:00:00.000000000'\n",
      " '2020-11-02T00:00:00.000000000' '2020-11-03T00:00:00.000000000'\n",
      " '2020-11-04T00:00:00.000000000' '2020-11-05T00:00:00.000000000'\n",
      " '2020-11-06T00:00:00.000000000' '2020-11-07T00:00:00.000000000'\n",
      " '2020-11-08T00:00:00.000000000' '2020-11-09T00:00:00.000000000'\n",
      " '2020-11-10T00:00:00.000000000' '2020-11-11T00:00:00.000000000'\n",
      " '2020-11-12T00:00:00.000000000' '2020-11-13T00:00:00.000000000'\n",
      " '2020-11-14T00:00:00.000000000' '2020-11-15T00:00:00.000000000'\n",
      " '2020-11-16T00:00:00.000000000' '2020-11-17T00:00:00.000000000'\n",
      " '2020-11-18T00:00:00.000000000' '2020-11-19T00:00:00.000000000'\n",
      " '2020-11-20T00:00:00.000000000' '2020-11-21T00:00:00.000000000'\n",
      " '2020-11-22T00:00:00.000000000' '2020-11-23T00:00:00.000000000'\n",
      " '2020-11-24T00:00:00.000000000' '2020-11-25T00:00:00.000000000'\n",
      " '2020-11-26T00:00:00.000000000' '2020-11-27T00:00:00.000000000'\n",
      " '2020-11-28T00:00:00.000000000' '2020-11-29T00:00:00.000000000'\n",
      " '2020-11-30T00:00:00.000000000' '2020-12-01T00:00:00.000000000'\n",
      " '2020-12-02T00:00:00.000000000' '2020-12-03T00:00:00.000000000'\n",
      " '2020-12-04T00:00:00.000000000' '2020-12-05T00:00:00.000000000'\n",
      " '2020-12-06T00:00:00.000000000' '2020-12-07T00:00:00.000000000'\n",
      " '2020-12-08T00:00:00.000000000' '2020-12-09T00:00:00.000000000'\n",
      " '2020-12-10T00:00:00.000000000' '2020-12-11T00:00:00.000000000'\n",
      " '2020-12-12T00:00:00.000000000' '2020-12-13T00:00:00.000000000'\n",
      " '2020-12-14T00:00:00.000000000' '2020-12-15T00:00:00.000000000'\n",
      " '2020-12-16T00:00:00.000000000' '2020-12-17T00:00:00.000000000'\n",
      " '2020-12-18T00:00:00.000000000' '2020-12-19T00:00:00.000000000'\n",
      " '2020-12-20T00:00:00.000000000' '2020-12-21T00:00:00.000000000'\n",
      " '2020-12-22T00:00:00.000000000' '2020-12-23T00:00:00.000000000'\n",
      " '2020-12-24T00:00:00.000000000' '2020-12-25T00:00:00.000000000'\n",
      " '2020-12-26T00:00:00.000000000' '2020-12-27T00:00:00.000000000'\n",
      " '2020-12-28T00:00:00.000000000' '2020-12-29T00:00:00.000000000'\n",
      " '2020-12-30T00:00:00.000000000' '2020-12-31T00:00:00.000000000']\n"
     ]
    }
   ],
   "source": [
    "precip = remote_data.values # nifty function that converts the Xarray data structure into a NumPy array\n",
    "lat = lat2.values \n",
    "lon = lon2.values"
   ]
  },
  {
   "cell_type": "markdown",
   "metadata": {},
   "source": [
    "## *YOUR TURN, AGAIN, FROM HERE TO END OF ASSIGNMENT*\n",
    "#### (2)  Evaluating dimensions!\n",
    " - (a.) Evaluate and print the shape of each of these three NumPy arrays: lat, lon, and precip\n",
    "<br><br>\n",
    " - (b.) What are the dimensions of precip, physically, based on your answer to (a.), and your work in Q1?  <br><br>\n",
    " - (c.) And what *order* are the dimensions in?"
   ]
  },
  {
   "cell_type": "code",
   "execution_count": 146,
   "metadata": {},
   "outputs": [
    {
     "name": "stdout",
     "output_type": "stream",
     "text": [
      "Shapes\n",
      "\tLat: (120,)\n",
      "\tLon: (300,)\n",
      "\tPrecip: (366, 120, 300)\n",
      "\n"
     ]
    }
   ],
   "source": [
    "print(f'Shapes\\n\\tLat: {np.shape(lat)}\\n\\tLon: {np.shape(lon)}\\n\\tPrecip: {np.shape(precip)}\\n')"
   ]
  },
  {
   "cell_type": "markdown",
   "metadata": {},
   "source": [
    "B.\n",
    "Time, latitude, longitude"
   ]
  },
  {
   "cell_type": "markdown",
   "metadata": {},
   "source": [
    "C.\n",
    "Time, latitude, longitude"
   ]
  },
  {
   "cell_type": "markdown",
   "metadata": {},
   "source": [
    "#### (3)  Array operations - unit conversion\n",
    "- (a.) Convert from mm of daily precip to inches using an array operation (i.e., not a loop, of course!)\n",
    "<br><br>\n",
    "- (b.) Comment on if what you just did would be faster or slower than doing this instead using a *for loop*. *Why* would this be the case, conceptually?"
   ]
  },
  {
   "cell_type": "code",
   "execution_count": 147,
   "metadata": {},
   "outputs": [],
   "source": [
    "precip_in = np.copy(precip)\n",
    "precip_in = precip_in*0.0393701"
   ]
  },
  {
   "cell_type": "markdown",
   "metadata": {},
   "source": [
    "Doing this in a for loop would be terribly slow, as the loop would then be executed via interpreted Python, rather than via the C bindings. The advantage of the numpy C bindings is that it allows for efficent and optimized usage of vectorized (SIMD) CPU operations. SIMD instructions allow for a single instruction to operate upon multiple operands in modern 64bit (or larger) CPU registers at once. Some modern CPUs in current supercomputers such as the Knights Landing architecture (AVX-512) even include 512bit registers, to really make these big machines crunch arrays quickly."
   ]
  },
  {
   "cell_type": "markdown",
   "metadata": {},
   "source": [
    "#### (4)  Exploring daily precipitation data at the gridpoint nearest UIUC campus\n",
    "- (a.) Determine, save to new variable(s), and print the indices of the nearest gridpoint to the UIUC campus. *You may need to use a NumPy function I haven't formally taught you to determine the indices of the gridpoint nearest UIUC campus - do some exploration! #healthy*\n",
    "<br><br>\n",
    "- (b.) Print the corresponding lat/lon of that gridpoint. \n",
    "<br><br>\n",
    "- (c.) Evaluate and print the shape of your precip array when now only looking at precipitation data at this special location.  This will help you understand what exactly you're plotting in (d.) and (e.)\n",
    "<br><br>\n",
    "- (d.) Create a line plot of precipitation data at this special location.\n",
    "   - Don't forget axis labels! And a title!\n",
    "<br><br>\n",
    "- (e.) Create a histogram of your precipitation data at this special location.  Please explicitly set the number of bins you think will be most appropriate to display the data in a way that is easy to interpret."
   ]
  },
  {
   "cell_type": "code",
   "execution_count": 153,
   "metadata": {},
   "outputs": [],
   "source": [
    "# UIUC Campus: 40.1020° N, 271.7728E\n",
    "lat_values_no_nan = lat[np.logical_not(np.isnan(lat))] # Filter nan\n",
    "diff = np.absolute(lat_values_no_nan-40.1020)\n",
    "uiuc_lat_idx = diff.argmin()\n",
    "\n",
    "lon_values_no_nan = lon[np.logical_not(np.isnan(lon))] # Filter nan\n",
    "diff = np.absolute(lon_values_no_nan-271.7728)\n",
    "uiuc_lon_idx = diff.argmin()"
   ]
  },
  {
   "cell_type": "code",
   "execution_count": 162,
   "metadata": {},
   "outputs": [
    {
     "name": "stdout",
     "output_type": "stream",
     "text": [
      "Sample Location (nearest to UIUC):\n",
      "\tLat(80): 40.125\n",
      "\tLon(167): 271.875\n"
     ]
    }
   ],
   "source": [
    "# B\n",
    "uiuc_lat = lat[uiuc_lat_idx]\n",
    "uiuc_lon = lon[uiuc_lon_idx]\n",
    "geopoint_array_location = (uiuc_lon_idx, uiuc_lat_idx)\n",
    "print(f'Sample Location (nearest to UIUC):\\n\\tLat({uiuc_lat_idx}): {uiuc_lat}\\n\\tLon({uiuc_lon_idx}): {uiuc_lon}')"
   ]
  },
  {
   "cell_type": "code",
   "execution_count": 163,
   "metadata": {},
   "outputs": [
    {
     "name": "stdout",
     "output_type": "stream",
     "text": [
      "(300,)\n"
     ]
    }
   ],
   "source": [
    "# C\n",
    "print(np.shape(precip[geopoint_array_location]))"
   ]
  },
  {
   "cell_type": "code",
   "execution_count": 186,
   "metadata": {},
   "outputs": [
    {
     "data": {
      "text/plain": [
       "[<matplotlib.lines.Line2D at 0x7f42cbd47220>]"
      ]
     },
     "execution_count": 186,
     "metadata": {},
     "output_type": "execute_result"
    },
    {
     "data": {
      "image/png": "[encoded data removed]",
      "text/plain": [
       "<Figure size 432x288 with 1 Axes>"
      ]
     },
     "metadata": {
      "needs_background": "light"
     },
     "output_type": "display_data"
    }
   ],
   "source": [
    "# D\n",
    "plt.xlabel('Time (days)')\n",
    "plt.ylabel('Precipitation (mm)')\n",
    "plt.title('Annual Chambana Daily Precipitaion')\n",
    "plt.plot(times2[0:precip[geopoint_array_location].size], precip[geopoint_array_location])"
   ]
  },
  {
   "cell_type": "code",
   "execution_count": 189,
   "metadata": {},
   "outputs": [
    {
     "data": {
      "text/plain": [
       "(array([186.,   3.,   3.,   1.,   1.,   2.,   0.,   1.,   1.,   2.,   0.,\n",
       "          3.]),\n",
       " array([0.        , 0.1612468 , 0.3224936 , 0.48374042, 0.6449872 ,\n",
       "        0.806234  , 0.96748084, 1.1287277 , 1.2899745 , 1.4512212 ,\n",
       "        1.612468  , 1.7737149 , 1.9349617 ], dtype=float32),\n",
       " <BarContainer object of 12 artists>)"
      ]
     },
     "execution_count": 189,
     "metadata": {},
     "output_type": "execute_result"
    },
    {
     "data": {
      "image/png": "[encoded data removed]",
      "text/plain": [
       "<Figure size 432x288 with 1 Axes>"
      ]
     },
     "metadata": {
      "needs_background": "light"
     },
     "output_type": "display_data"
    }
   ],
   "source": [
    "# E\n",
    "plt.xlabel('Precipitation (mm)')\n",
    "plt.ylabel('Number of Days with Bin Precipitation')\n",
    "plt.title('Chambana Precipitation Binned by Count of Days')\n",
    "plt.hist(precip[geopoint_array_location] , bins=12)"
   ]
  },
  {
   "cell_type": "markdown",
   "metadata": {},
   "source": [
    "#### (5)  Calculate the following statistics for precip at this special location!\n",
    "  - (a.) How many days did no precip fall?\n",
    "<br><br>\n",
    "  - (b.) How many days did more than one inch fall?\n",
    "<br><br>\n",
    "  - (c.) What was the maximum amount of precip that fell?\n",
    "<br><br>\n",
    "  - (d.) What day did it occur on?"
   ]
  },
  {
   "cell_type": "code",
   "execution_count": 170,
   "metadata": {},
   "outputs": [
    {
     "name": "stdout",
     "output_type": "stream",
     "text": [
      "There was no precipitation on 176 days.\n"
     ]
    }
   ],
   "source": [
    "# A\n",
    "# Switching units from mm->in abruptly here.\n",
    "daily_values = precip_in[geopoint_array_location]\n",
    "daily_values_no_nan = daily_values[np.logical_not(np.isnan(daily_values))] # Filter nan\n",
    "count_no_precip_days = daily_values[np.where(daily_values_no_nan==0)].size\n",
    "print(f'There was no precipitation on {count_no_precip_days} days.')"
   ]
  },
  {
   "cell_type": "code",
   "execution_count": 171,
   "metadata": {},
   "outputs": [
    {
     "name": "stdout",
     "output_type": "stream",
     "text": [
      "There was over one inch of  precipitation on 0 days.\n"
     ]
    }
   ],
   "source": [
    "# B\n",
    "count_over_1in_precip_days = daily_values[np.where(daily_values_no_nan>1)].size\n",
    "print(f'There was over one inch of  precipitation on {count_over_1in_precip_days} days.')"
   ]
  },
  {
   "cell_type": "code",
   "execution_count": 172,
   "metadata": {},
   "outputs": [
    {
     "name": "stdout",
     "output_type": "stream",
     "text": [
      "There was over one inch of  precipitation on 0.076179638504982 days.\n"
     ]
    }
   ],
   "source": [
    "# C\n",
    "idx = np.argmax(daily_values_no_nan)\n",
    "print(f'There was over one inch of  precipitation on {daily_values_no_nan[idx]} days.')"
   ]
  },
  {
   "cell_type": "code",
   "execution_count": 178,
   "metadata": {},
   "outputs": [
    {
     "name": "stdout",
     "output_type": "stream",
     "text": [
      "<xarray.DataArray 'time' ()>\n",
      "array('2020-02-05T00:00:00.000000000', dtype='datetime64[ns]')\n",
      "Coordinates:\n",
      "    time     datetime64[ns] 2020-02-05\n",
      "Attributes:\n",
      "    long_name:      Time\n",
      "    delta_t:        0000-00-01 00:00:00\n",
      "    avg_period:     0000-00-01 00:00:00\n",
      "    standard_name:  time\n",
      "    axis:           T\n",
      "    actual_range:   [1928472. 1937232.]\n"
     ]
    }
   ],
   "source": [
    "# D\n",
    "print(times2[idx])"
   ]
  },
  {
   "cell_type": "code",
   "execution_count": null,
   "metadata": {},
   "outputs": [],
   "source": []
  },
  {
   "cell_type": "code",
   "execution_count": null,
   "metadata": {},
   "outputs": [],
   "source": []
  },
  {
   "cell_type": "code",
   "execution_count": null,
   "metadata": {},
   "outputs": [],
   "source": []
  }
 ],
 "metadata": {
  "kernelspec": {
   "display_name": "Python 3 (ipykernel)",
   "language": "python",
   "name": "python3"
  },
  "language_info": {
   "codemirror_mode": {
    "name": "ipython",
    "version": 3
   },
   "file_extension": ".py",
   "mimetype": "text/x-python",
   "name": "python",
   "nbconvert_exporter": "python",
   "pygments_lexer": "ipython3",
   "version": "3.9.6"
  }
 },
 "nbformat": 4,
 "nbformat_minor": 4
}
