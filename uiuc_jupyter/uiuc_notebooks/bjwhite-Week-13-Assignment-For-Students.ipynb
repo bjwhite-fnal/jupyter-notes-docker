{
 "cells": [
  {
   "attachments": {
    "image-2.png": {
     "image/png": "[encoded data removed]"
    }
   },
   "cell_type": "markdown",
   "id": "ac7de7d6",
   "metadata": {},
   "source": [
    "# WEEK 13 ASSIGNMENT - PART II OF PRECIP + SST EXPLORATION!\n",
    "\n",
    "### What is El Nino and why do we care?\n",
    "- remember: El Nino (La Nina) is the anomalous warming (cooling) of a certain region in the Pacific Ocean\n",
    "<br><br>\n",
    "- interestingly, what happens there can have far reaching impacts on our weather here (example: precipitation patterns in the US, track of low pressure systems, etc!) - as well as weather *globally*\n",
    "<br><br>\n",
    "- more scientific background?https://oceanservice.noaa.gov/facts/ninonina.html#:~:text=El%20Nino%20means%20Little%20Boy,can%20affect%20our%20weather%20significantly.\n",
    "\n",
    "### How do we evaluate El Nino vs. La Nina?\n",
    "**Spatially**\n",
    "- the average sea-surface temperature (SST) anomalies in the Nino 3.4 region (5S to 5N, 120W to 170W), seen below \n",
    "![image-2.png](attachment:image-2.png)\n",
    "- if can't see above image, or for more information, see: https://www.ncdc.noaa.gov/teleconnections/enso/indicators/sst/\n",
    "\n",
    "**Temporally**\n",
    "- 5 consecutive months with 3-month running mean SST anomaly of a least 0.5 deg C (El Nino) or below -0.5 deg C (La Nina)"
   ]
  },
  {
   "cell_type": "code",
   "execution_count": 1,
   "id": "63b91c63",
   "metadata": {
    "scrolled": true
   },
   "outputs": [],
   "source": [
    "import pandas as pd\n",
    "import numpy as np\n",
    "import xarray as xr\n",
    "from matplotlib import pyplot as plt\n",
    "import cartopy.feature as cfeature\n",
    "import pandas as pd\n",
    "import matplotlib.pyplot as plt\n",
    "import pandas as pd\n",
    "import seaborn as sb\n",
    "import numpy as np\n",
    "from sklearn.metrics import mean_squared_error\n",
    "from sklearn.model_selection import train_test_split\n",
    "import statsmodels.api as sm\n",
    "import seaborn as sb\n",
    "import numpy as np\n",
    "from mpl_toolkits.mplot3d import Axes3D\n",
    "from scipy import stats\n",
    "\n",
    "\n",
    "\n",
    "\n"
   ]
  },
  {
   "cell_type": "markdown",
   "id": "b0da9d12",
   "metadata": {},
   "source": [
    "# WEEK 13 ASSIGNMENT STARTS HERE!\n",
    "\n",
    "##  You'll need to copy over your cells from your Week 13 In-Module Exercises to here, or vice versa, as we're picking up where we left off!\n",
    "\n",
    "## So, you've calculated correlations for each season and created a plot for the US and did some interpretation!\n",
    "\n",
    "##  THIS IS KEY: Moving forward, you'll be ONLY using data from the season (either DJF, MAM, JJA, SON) that you identified as having the strongest correlations in the last Q of the Week 13 In-Module Exercises!"
   ]
  },
  {
   "cell_type": "markdown",
   "id": "5f706c2b",
   "metadata": {},
   "source": [
    "### (1). Using the Nino 3.4 region time series of SST for the season you identified in Week 13 In-Module Exercises as having the strong correlations, and precipitation data for this same season:\n",
    "### Find the location of maximum correlation in the subregion of the US that is east of the Rockies, with the region defined as:\n",
    "- **latitudes**: 24.7 N to 49.3 N\n",
    "- **longitudes**: -104 W to -67 W"
   ]
  },
  {
   "cell_type": "code",
   "execution_count": null,
   "id": "4ed51c6c",
   "metadata": {},
   "outputs": [],
   "source": []
  },
  {
   "cell_type": "markdown",
   "id": "1d1b94f1",
   "metadata": {},
   "source": [
    "### (2). Plot a map of the correlations (your map at end of last homework), but now with this location of maximum correlation indicated with a discernible dot or other symbol.  \n",
    "\n",
    "### PLEASE READ BELOW, THIS IS SUPER IMPORTANT\n",
    "\n",
    "### Precipitation data-wise, for the rest of assignment you are ONLY using the time series of precipitation data from THIS location for the season you've identified.\n",
    "\n",
    "### SST data-wise, for the rest of the assignment, you are ONLY using the time series of SST data from the Nino 3.4 region for that same season!"
   ]
  },
  {
   "cell_type": "code",
   "execution_count": null,
   "id": "2d3bdb70",
   "metadata": {},
   "outputs": [],
   "source": []
  },
  {
   "cell_type": "markdown",
   "id": "318da952",
   "metadata": {},
   "source": [
    "### (3.)  Create a plot consisting of two subplots, one being the time series of precipitation at this special location, and the other the time series of SSTs in the Nino 3.4 region."
   ]
  },
  {
   "cell_type": "code",
   "execution_count": null,
   "id": "65c2d4ad",
   "metadata": {},
   "outputs": [],
   "source": []
  },
  {
   "cell_type": "markdown",
   "id": "da6e40d7",
   "metadata": {},
   "source": [
    "### (4.) Create a histogram for each the precipitation and the SST time series data.  Be sure to plot the PDF for a theoretical normal distribution on each histogram as well, as this will help you interpret in the next Q."
   ]
  },
  {
   "cell_type": "code",
   "execution_count": null,
   "id": "a6d2573d",
   "metadata": {},
   "outputs": [],
   "source": []
  },
  {
   "cell_type": "code",
   "execution_count": null,
   "id": "ea6f7562",
   "metadata": {},
   "outputs": [],
   "source": []
  },
  {
   "cell_type": "markdown",
   "id": "22a96b8b",
   "metadata": {},
   "source": [
    "### (5.)   In at least a few sentences for each (a.) and (b.):\n",
    "### (a.)  Compare the time series plots for SST and precip.   \n",
    "### (b.)  Describe how each of these variables, SST and precip, are distributed, especially how they'd each compare to a theoretical normal distribution."
   ]
  },
  {
   "cell_type": "code",
   "execution_count": null,
   "id": "5524066f",
   "metadata": {},
   "outputs": [],
   "source": []
  },
  {
   "cell_type": "code",
   "execution_count": null,
   "id": "f4d8e71c",
   "metadata": {},
   "outputs": [],
   "source": []
  },
  {
   "cell_type": "markdown",
   "id": "0e2102b1",
   "metadata": {},
   "source": [
    "### (6.)   Given that you’re working with observations with a time component, do you expect to encounter issues with serial correlation? Why or why not?"
   ]
  },
  {
   "cell_type": "code",
   "execution_count": null,
   "id": "d523eab8",
   "metadata": {},
   "outputs": [],
   "source": []
  },
  {
   "cell_type": "markdown",
   "id": "eea7aa71",
   "metadata": {},
   "source": [
    "### (7.) \n",
    "### (a.) Create a scatterplot of the SST vs. precipitation.\n",
    "### (b.) In a few sentences, describe any relationship you see."
   ]
  },
  {
   "cell_type": "code",
   "execution_count": null,
   "id": "0397f7e6",
   "metadata": {},
   "outputs": [],
   "source": []
  },
  {
   "cell_type": "code",
   "execution_count": null,
   "id": "51e37b95",
   "metadata": {},
   "outputs": [],
   "source": []
  },
  {
   "cell_type": "markdown",
   "id": "b38cec0a",
   "metadata": {},
   "source": [
    "### (8.)  Run a linear regression to quantify this relationship. Plot your linear regression line against the raw scatterplot of data (as usual)."
   ]
  },
  {
   "cell_type": "code",
   "execution_count": null,
   "id": "65450763",
   "metadata": {},
   "outputs": [],
   "source": []
  },
  {
   "cell_type": "code",
   "execution_count": null,
   "id": "fd4b6f9f",
   "metadata": {},
   "outputs": [],
   "source": []
  },
  {
   "cell_type": "markdown",
   "id": "2deb929f",
   "metadata": {},
   "source": [
    "### (9.)  You know the drill! Calculate, plot for the residuals, and interpret (do NOT forget this extremely important step if you want full credit for this assignment) the following metrics for model evaluation:\n",
    "\n",
    "### (a.)  R^2\n",
    "### (b.)  RMSE\n",
    "### (c.)  Statistical significance\n",
    "### (d.) Residuals (you must create and evaluate both the typical scatterplot AND a histogram with theoretical normal distribution fitted to it!)"
   ]
  },
  {
   "cell_type": "code",
   "execution_count": null,
   "id": "0de11550",
   "metadata": {},
   "outputs": [],
   "source": []
  },
  {
   "cell_type": "code",
   "execution_count": null,
   "id": "c3d5bc41",
   "metadata": {},
   "outputs": [],
   "source": []
  },
  {
   "cell_type": "code",
   "execution_count": null,
   "id": "f4058fe0",
   "metadata": {},
   "outputs": [],
   "source": []
  },
  {
   "cell_type": "code",
   "execution_count": null,
   "id": "87c41a84",
   "metadata": {},
   "outputs": [],
   "source": []
  },
  {
   "cell_type": "markdown",
   "id": "87fa4205",
   "metadata": {},
   "source": [
    "### (10.)  In at least a few sentences:\n",
    "### (a.)  Conclude how you think this model peforms overall, based on your evaluations in (9.)\n",
    "### (b.)  Describe one way you could improve this model\n",
    "- if you’re not a meteorologist it’s fine if you don’t get ultra-specific on any scientific considerations - there are considerations beyond scientific ones as well!"
   ]
  },
  {
   "cell_type": "code",
   "execution_count": null,
   "id": "c3192069",
   "metadata": {},
   "outputs": [],
   "source": []
  },
  {
   "cell_type": "code",
   "execution_count": null,
   "id": "4f91c723",
   "metadata": {},
   "outputs": [],
   "source": []
  }
 ],
 "metadata": {
  "kernelspec": {
   "display_name": "Python 3 (ipykernel)",
   "language": "python",
   "name": "python3"
  },
  "language_info": {
   "codemirror_mode": {
    "name": "ipython",
    "version": 3
   },
   "file_extension": ".py",
   "mimetype": "text/x-python",
   "name": "python",
   "nbconvert_exporter": "python",
   "pygments_lexer": "ipython3",
   "version": "3.9.7"
  }
 },
 "nbformat": 4,
 "nbformat_minor": 5
}
